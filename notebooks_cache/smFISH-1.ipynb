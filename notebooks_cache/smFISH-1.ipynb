{
 "cells": [
  {
   "cell_type": "markdown",
   "metadata": {},
   "source": [
    "# Getting started on smFISH\n",
    "\n",
    "I took a stab at getting started trying to detect spots in smFISH data. Don't know if it's useful, but it may be a start. I have previously written a bunch of code to analyze MS2 data, and this has a spot-finding component (which I based on the smFISH paper...I think?). The strategy is to first do some crude thing (like thresholding or finding local maxima) to make a first guess at where spots might be, and then to use gaussian fitting to those candidates. By filtering on the parameters of the fit (intensity and widths), we hope to identify true spots.\n",
    "\n",
    "As always, start by importing some useful packages. I don't have a list of dependences; I would just run this, let the error message tell you what package you're missing, install it in terminal...and repeat until hopefully the whole cell executes without errors, meaning you've installed everything."
   ]
  },
  {
   "cell_type": "code",
   "execution_count": 1,
   "metadata": {},
   "outputs": [],
   "source": [
    "# Import some public packages.\n",
    "import numpy as np\n",
    "import matplotlib.pyplot as plt\n",
    "from scipy import ndimage as ndi \n",
    "from importlib import reload\n",
    "import pickle\n",
    "import czifile\n",
    "%matplotlib inline"
   ]
  },
  {
   "cell_type": "markdown",
   "metadata": {},
   "source": [
    "I wrote a couple sets of functions (modules) that I will send you. Put these two .py files (imagep.py and fitting.py) in a folder, assign the path to that folder to the __folder__ object:"
   ]
  },
  {
   "cell_type": "code",
   "execution_count": 2,
   "metadata": {},
   "outputs": [],
   "source": [
    "folder = '/Users/michaelstadler/Bioinformatics/Projects/rpb1/bin'"
   ]
  },
  {
   "cell_type": "code",
   "execution_count": 3,
   "metadata": {},
   "outputs": [],
   "source": [
    "# Import my modules and some functions from them.\n",
    "import sys\n",
    "sys.path.append(folder)\n",
    "import imagep as imp\n",
    "import fitting as fit\n",
    "from imagep import viewer, save_pickle, load_pickle, box_spots, read_czi\n",
    "from fitting import fitgaussian3d"
   ]
  },
  {
   "cell_type": "markdown",
   "metadata": {},
   "source": [
    "Import your czi file as the object __stack__. To make life easier, I think it's wise to start with a smaller section of the larger image, if only to make computation faster while you're testing stuff out. I'm calling this __tstack__. For the sample image you sent, it's also convenient that this section doesn't contain any of the bright foci (chromosomal transcription sites), just the dots we want to find. Good place to start, anyway."
   ]
  },
  {
   "cell_type": "code",
   "execution_count": 4,
   "metadata": {},
   "outputs": [],
   "source": [
    "stack = read_czi('/Users/michaelstadler/Downloads/btd-05.czi', swapaxes=False)\n",
    "tstack = stack[0,12:,100:200,100:200]"
   ]
  },
  {
   "cell_type": "markdown",
   "metadata": {},
   "source": [
    "A super useful thing to have is an image viewer. I wrote this __viewer__ function which is decent. Obviously, I encourage you to improve (and share) or customize for your purposes. It just allows you to scroll through slices and also adjust contrast. A couple useful features are that you can click on a spot (click and release, you don't have to hold it) and then use the arrow keys you can scroll over one at a time. Also, you can click the numbers and type them in manually."
   ]
  },
  {
   "cell_type": "code",
   "execution_count": 5,
   "metadata": {},
   "outputs": [
    {
     "data": {
      "application/vnd.jupyter.widget-view+json": {
       "model_id": "5906428a497a44b999695c067ca3af60",
       "version_major": 2,
       "version_minor": 0
      },
      "text/plain": [
       "interactive(children=(Dropdown(description='Color', index=5, options=('gray', 'plasma', 'Reds', 'magma', 'viri…"
      ]
     },
     "metadata": {},
     "output_type": "display_data"
    }
   ],
   "source": [
    "viewer(tstack, figsize=6)"
   ]
  },
  {
   "cell_type": "markdown",
   "metadata": {},
   "source": [
    "## Taking a stab at spot-finding\n",
    "\n",
    "I'm not sure how to procede from here. I've put down some ideas to maybe get you started, but it may be that none of it turns out to be the right thing to do. Anyway, I start by doing some filtering to try to bring the spots out. Here I'm using a difference of gaussians (DoG) that is essentially a band-pass filter: it lets features of a certain frequency range through. The filter takes and upper and lower sigma (sigma being the variance of the gaussian distributions...that's not really important). By playing with the sigmas, you change the frequency information that gets through. You really have to just play with it to see what it does. I played with it some, and using values of 1 and 4 seems to do a decent job of keeping spots and getting rid of a lot of other stuff:"
   ]
  },
  {
   "cell_type": "code",
   "execution_count": 6,
   "metadata": {},
   "outputs": [
    {
     "data": {
      "application/vnd.jupyter.widget-view+json": {
       "model_id": "7fc4967c25e4475c8f8be8fba59c1c56",
       "version_major": 2,
       "version_minor": 0
      },
      "text/plain": [
       "interactive(children=(Dropdown(description='Color', index=5, options=('gray', 'plasma', 'Reds', 'magma', 'viri…"
      ]
     },
     "metadata": {},
     "output_type": "display_data"
    }
   ],
   "source": [
    "big_sigma=4\n",
    "small_sigma=1\n",
    "dog = imp.dog_filter(tstack, small_sigma, big_sigma)\n",
    "\n",
    "# View original (left) and dog filter (right).\n",
    "viewer([tstack, dog])"
   ]
  },
  {
   "cell_type": "markdown",
   "metadata": {},
   "source": [
    "Again, I'm really unsure what the right thing to do here is, but here's a stab. To generate initial candidates for spots, you can find local maxima within some window. I wrote this function __peak_local_max_nD__ that will find all peaks that are maxima within a set window. Tweaking the size of the window is of course key--too large and you miss spots that are near each other. For this image, a 3x10x10 pixel window seems like a not terrible starting place."
   ]
  },
  {
   "cell_type": "code",
   "execution_count": 7,
   "metadata": {},
   "outputs": [],
   "source": [
    "mask, peaks = imp.peak_local_max_nD(dog, (3,10,10))"
   ]
  },
  {
   "cell_type": "markdown",
   "metadata": {},
   "source": [
    "The function returns a mask (an image of the same dimensions as the input image except it's all zeros except where the function called peaks) and a list of the peaks. We can take a look at these:"
   ]
  },
  {
   "cell_type": "code",
   "execution_count": 8,
   "metadata": {},
   "outputs": [
    {
     "data": {
      "text/plain": [
       "[(0, 0, 77), (0, 1, 99), (0, 2, 5), (0, 3, 15), (0, 6, 35)]"
      ]
     },
     "execution_count": 8,
     "metadata": {},
     "output_type": "execute_result"
    }
   ],
   "source": [
    "# Peaks is a list of coordinate tuples, each of which is a point in the image.\n",
    "peaks[:5]"
   ]
  },
  {
   "cell_type": "markdown",
   "metadata": {},
   "source": [
    "It's always essential so see what happened. You could try looking at the mask and the original in the viewer, but it sucks for multiple reasons:"
   ]
  },
  {
   "cell_type": "code",
   "execution_count": 9,
   "metadata": {},
   "outputs": [
    {
     "data": {
      "application/vnd.jupyter.widget-view+json": {
       "model_id": "a365936bdf1c49d78006ede0b04aca15",
       "version_major": 2,
       "version_minor": 0
      },
      "text/plain": [
       "interactive(children=(Dropdown(description='Color', index=5, options=('gray', 'plasma', 'Reds', 'magma', 'viri…"
      ]
     },
     "metadata": {},
     "output_type": "display_data"
    }
   ],
   "source": [
    "viewer([dog, mask.astype('bool')*1000], figsize=6)"
   ]
  },
  {
   "cell_type": "markdown",
   "metadata": {},
   "source": [
    "Luckily I have a better (I hope) solution. I wrote a function to draw boxes around points. I had to adapt it a little for this, so instead of calling the version of __box_spots__ from the module, I put the modified version here:"
   ]
  },
  {
   "cell_type": "code",
   "execution_count": 10,
   "metadata": {},
   "outputs": [],
   "source": [
    "def box_spots(stack, coords, max_mult=1.3, halfwidth_xy=5, \n",
    "              halfwidth_z=2, linewidth=1, shadows=False):\n",
    "    \"\"\"Draw boxes around detected coordinates in an image from a list.\n",
    "    \n",
    "    Usage suggestions: Useful with a Z-projection to examine effectiveness\n",
    "    of spot segmentation. Can also use with very small halfwidths to create\n",
    "    artificial \"dots\" representing called spots to overlay on other data,\n",
    "    e.g. a nuclear mask or a blank matrix of 0s (to examine spot movement\n",
    "    alone).\n",
    "    \n",
    "    Args: \n",
    "        stack: ndarray of uint16\n",
    "            Image stack of dimensions [z,x,y]\n",
    "        spot_data: list of tuples\n",
    "            List of coordinate tuples for the boxes to be plotted.\n",
    "        max_multi: numeric\n",
    "            Multiplier of maximum value to use for drawing box.\n",
    "        halfwidth_xy: int\n",
    "            Halfwidth in pixels of the boxes in xy direction (sides will be \n",
    "            2*halfwidth)\n",
    "        halfwidth_z: int\n",
    "            Halfwidth of the boxes in z direction(vertical sides will be \n",
    "            2*halfwidth)\n",
    "        linewidth: int\n",
    "            Width of lines used to draw boxes\n",
    "        shadows: bool\n",
    "            Draw \"shadows\" (dark boxes) in non-boxed z-slices.\n",
    "        \n",
    "    Return:\n",
    "        boxstack: ndarray\n",
    "            Input image stack with boxes drawn around spots. \n",
    "    \"\"\"\n",
    "    boxstack = np.copy(stack)\n",
    "    # uint16 images get screwed up by negative numbers, so reset min to 0.\n",
    "    if (boxstack.min() < 0):\n",
    "        boxstack = boxstack - boxstack.min()\n",
    "    boxstack = boxstack.astype('uint16')\n",
    "    \n",
    "    hival = max_mult * boxstack.max()\n",
    "    if (hival > 65535):\n",
    "        hival = 65535\n",
    "    \n",
    "    \n",
    "    def drawbox(boxstack, point, halfwidth_xy, halfwidth_z, linewidth, hival, shadows):\n",
    "        \"\"\"Draw a box around a point\"\"\"\n",
    "        # Get the bounds of the box.\n",
    "        z, i, j = point\n",
    "        z_min = max(0, z - halfwidth_z)\n",
    "        z_max = min(boxstack.shape[0], z + halfwidth_z + 1)\n",
    "        i_min = max(0, i - halfwidth_xy)\n",
    "        i_max = min(boxstack.shape[1], i + halfwidth_xy + 1)\n",
    "        j_min = max(0, j - halfwidth_xy)\n",
    "        j_max = min(boxstack.shape[2], j + halfwidth_xy + 1)\n",
    "        if shadows:\n",
    "            # Draw shadow boxes in all Z-frames.\n",
    "            boxstack[:, i_min:i_max, j_min:(j_min + linewidth)] = 0\n",
    "            boxstack[:, i_min:i_max, (j_max-linewidth):j_max] = 0\n",
    "            boxstack[:, i_min:(i_min+linewidth), j_min:j_max] = 0\n",
    "            boxstack[:, (i_max-linewidth):i_max, j_min:j_max] = 0\n",
    "        # Draw left line.\n",
    "        boxstack[z_min:z_max, i_min:i_max, j_min:(j_min + linewidth)] = hival     \n",
    "        # Draw right line. \n",
    "        boxstack[z_min:z_max, i_min:i_max, (j_max-linewidth):j_max] = hival\n",
    "        # Draw top line. \n",
    "        boxstack[z_min:z_max, i_min:(i_min+linewidth), j_min:j_max] = hival\n",
    "        # Draw bottom line.\n",
    "        boxstack[z_min:z_max, (i_max-linewidth):i_max, j_min:j_max] = hival\n",
    "    \n",
    "    # Main.\n",
    "    for i in range(0, len(coords)):\n",
    "        point = (np.array(coords[i][0:3]).astype(int))\n",
    "        drawbox(boxstack, point, halfwidth_xy, halfwidth_z, linewidth, hival, shadows)\n",
    "    return boxstack  "
   ]
  },
  {
   "cell_type": "code",
   "execution_count": 11,
   "metadata": {},
   "outputs": [
    {
     "data": {
      "application/vnd.jupyter.widget-view+json": {
       "model_id": "300bee8f6b404261b6943db4a414de84",
       "version_major": 2,
       "version_minor": 0
      },
      "text/plain": [
       "interactive(children=(Dropdown(description='Color', index=5, options=('gray', 'plasma', 'Reds', 'magma', 'viri…"
      ]
     },
     "metadata": {},
     "output_type": "display_data"
    }
   ],
   "source": [
    "# Take a look at our first try.\n",
    "viewer(box_spots(dog, peaks, shadows=False, halfwidth_xy=3, halfwidth_z=0), 6)"
   ]
  },
  {
   "cell_type": "markdown",
   "metadata": {},
   "source": [
    "A useful thing to do is to look at projections (max, mean, min, etc.). You can do this easily use the .max(axis=) syntax like so:"
   ]
  },
  {
   "cell_type": "code",
   "execution_count": 12,
   "metadata": {},
   "outputs": [
    {
     "data": {
      "application/vnd.jupyter.widget-view+json": {
       "model_id": "fa386fefa2b64c6da226aa521eeebb7f",
       "version_major": 2,
       "version_minor": 0
      },
      "text/plain": [
       "interactive(children=(Dropdown(description='Color', index=5, options=('gray', 'plasma', 'Reds', 'magma', 'viri…"
      ]
     },
     "metadata": {},
     "output_type": "display_data"
    }
   ],
   "source": [
    "# View a maximum projection.\n",
    "boxed = box_spots(dog, peaks, shadows=False, halfwidth_xy=3, halfwidth_z=0)\n",
    "viewer(boxed.max(axis=0), 6)"
   ]
  },
  {
   "cell_type": "code",
   "execution_count": 13,
   "metadata": {},
   "outputs": [
    {
     "data": {
      "application/vnd.jupyter.widget-view+json": {
       "model_id": "175abf64ec4941b0a46d4f89480cc6d6",
       "version_major": 2,
       "version_minor": 0
      },
      "text/plain": [
       "interactive(children=(Dropdown(description='Color', index=5, options=('gray', 'plasma', 'Reds', 'magma', 'viri…"
      ]
     },
     "metadata": {},
     "output_type": "display_data"
    }
   ],
   "source": [
    "# View a mean projection:\n",
    "viewer(boxed.mean(axis=0), 6)"
   ]
  },
  {
   "cell_type": "markdown",
   "metadata": {},
   "source": [
    "In this image, the spots are pretty dense, so it seems like most of the local maxima are plausible spots. But the __peak_local_max_nD__ will find the max in every window, so in an image that is sparser, a region with no spots will still get local maxes called. To filter these, guassian fitting is useful since it gives us information on intensity and shape of the spots. \n",
    "\n",
    "I have written some functions to do 3D gaussian fitting. I had to change my fit_ms2 function a bit to work here, so a usable version is below in the form of the __fit_spots__ function. However, __fit_ms2__ has some useful features so it could be worth checking out the code in the module if you start to play with this."
   ]
  },
  {
   "cell_type": "code",
   "execution_count": 14,
   "metadata": {},
   "outputs": [],
   "source": [
    "def fit_spots(stack, peaks, fitwindow_rad_xy=10, \n",
    "                   fitwindow_rad_z=2):  \n",
    "    \"\"\"Perform 3D gaussian fitting on local maxima in a 4D image stack\n",
    "    \n",
    "    Alrigthm: bandbass filter -> background subtraction -> find local maxima\n",
    "    -> fit gaussian to windows around maxima\n",
    "    \n",
    "    Args:\n",
    "        stack: ndarray\n",
    "            4D image stack [t,z,x,y] containing MS2 spots\n",
    "        sigma_small: numeric\n",
    "            Lower sigma for difference-of-gaussians bandpass filter\n",
    "        sigma_small: numeric\n",
    "            Upper sigma for difference-of-gaussians bandpass filter\n",
    "        fitwindow_rad_xy: int\n",
    "            Radius in pixels in the xy-dimension of the window around local\n",
    "            maxima peaks within which to do gaussian fitting.\n",
    "        fitwindow_rad_z: int\n",
    "            Radius in pixels in the z-dimension of the window around local\n",
    "            maxima peaks within which to do gaussian fitting.\n",
    "    \n",
    "    Returns:\n",
    "        fit_data: list of ndarrays\n",
    "            Each entry in the list is a time point (frame). Each row in\n",
    "            array is a fit (a single local maxima), columns are: 0: center \n",
    "            z-coordinate, 1: center x-coordinate, 2: center y-coordinate, \n",
    "            3: fit_height, 4: width_z, 5: width_x, 6: width_y. Coordinates \n",
    "            are adjusted so that if fit center lies outside the image, \n",
    "            center is moved to the edge.\n",
    "    \"\"\"\n",
    "\n",
    "    # Task: change size to minimum distance\n",
    "    def get_fitwindow(data, peak, xy_rad, z_rad):\n",
    "        \"\"\"Retrieve section of image stack corresponding to given\n",
    "        window around a point and the coordinate adjustments necessary\n",
    "        to convert window coordinates to coordinates in the original image\"\"\"\n",
    "        \n",
    "        # Set the start points for windows and \"adjust\" them if they get \n",
    "        # to negative numbers.\n",
    "        zmin = peak[0] - z_rad\n",
    "        xmin = peak[1] - xy_rad\n",
    "        ymin = peak[2] - xy_rad\n",
    "        # Initialize adjustments to values that are correct if no edge problems \n",
    "        # are encountered.\n",
    "        z_adj = -z_rad\n",
    "        x_adj = -xy_rad\n",
    "        y_adj = -xy_rad\n",
    "        # Update mins and adjustments if windows start at negative coordinates.\n",
    "        if (zmin < 0):\n",
    "            zmin = 0\n",
    "            z_adj = -peak[0]\n",
    "        if (xmin < 0):\n",
    "            xmin = 0\n",
    "            x_adj = -peak[1]\n",
    "        if (ymin < 0):\n",
    "            ymin = 0\n",
    "            y_adj = -peak[2]\n",
    "\n",
    "        # Get end points, constained by max coordinate in data.\n",
    "        zmax = min(data.shape[0] - 1, peak[0] + z_rad)\n",
    "        xmax = min(data.shape[1] - 1, peak[1] + xy_rad)\n",
    "        ymax = min(data.shape[2] - 1, peak[2] + xy_rad)\n",
    "\n",
    "        return (data[zmin:(zmax+1), xmin:(xmax+1), ymin:(ymax+1)], z_adj, x_adj, y_adj)\n",
    "    \n",
    "    def clamp(n, minn, maxn):\n",
    "        \"\"\"Bound a number between two constants\"\"\"\n",
    "        return max(min(maxn, n), minn)\n",
    "    \n",
    "    def fit_frame(substack, peaks, fitwindow_rad_xy, \n",
    "                   fitwindow_rad_z):\n",
    "        \"\"\"Perform 3D gaussian fitting on a 3D image stack.\"\"\"\n",
    "\n",
    "        # Fit 3D gaussian in window surrounding each local maximum.\n",
    "        fitparams = np.ndarray((0,7))\n",
    "        for peak in peaks:\n",
    "            fitwindow, z_adj, x_adj, y_adj = get_fitwindow(substack, peak, fitwindow_rad_xy, \n",
    "                fitwindow_rad_z)\n",
    "            opt = fitgaussian3d(fitwindow)\n",
    "            if opt.success:\n",
    "                peak_fitparams = opt.x\n",
    "                # Move center coordinates to match center of gaussian fit, ensure they're within image. \n",
    "                # If they're outside the image, coordinate is assigned as the edge of the image.\n",
    "                peak_fitparams[0] = int(round(clamp((peak[0] + peak_fitparams[0] + z_adj), 0, substack.shape[-3]-1)))\n",
    "                peak_fitparams[1] = int(round(clamp((peak[1] + peak_fitparams[1] + x_adj), 0, substack.shape[-2]-1)))\n",
    "                peak_fitparams[2] = int(round(clamp((peak[2] + peak_fitparams[2] + y_adj), 0, substack.shape[-1]-1)))\n",
    "                fitparams = np.vstack((fitparams, peak_fitparams))\n",
    "            # If fit fails, add dummy entry for spot.\n",
    "            else:\n",
    "                fitparams = np.vstack((fitparams, np.array([z_adj,x_adj,y_adj,0,np.inf,np.inf,np.inf])))\n",
    "        return fitparams\n",
    "    \n",
    "    #### Main ####\n",
    "    # Do fitting on first frame.\n",
    "    fit_data = fit_frame(stack, peaks, fitwindow_rad_xy, \n",
    "                   fitwindow_rad_z)   \n",
    "    \n",
    "    return fit_data\n"
   ]
  },
  {
   "cell_type": "markdown",
   "metadata": {},
   "source": [
    "Oh, also the fitting does not play well with negative numbers. The DoG filter produces negative numbers, so I reset everything to 0 to avoid this problem. As far as the proper window to use for fitting...I have no idea. Would require experimenting."
   ]
  },
  {
   "cell_type": "code",
   "execution_count": 15,
   "metadata": {},
   "outputs": [],
   "source": [
    "dog_n = dog - dog.min() + 1\n",
    "fits = fit_spots(dog_n, peaks, fitwindow_rad_xy=4, fitwindow_rad_z=1)"
   ]
  },
  {
   "cell_type": "markdown",
   "metadata": {},
   "source": [
    "Once you've got the fits, you can filter them in different ways using numpy slicing. For example, you could look at the most intense spots:\n",
    "\n",
    "Reminder of columns: \n",
    "\n",
    "0: center z-coordinate,  \n",
    "1: center x-coordinate,   \n",
    "2: center y-coordinate,   \n",
    "3: fit_height,  \n",
    "4: width_z,  \n",
    "5: width_x,  \n",
    "6: width_y"
   ]
  },
  {
   "cell_type": "code",
   "execution_count": 16,
   "metadata": {},
   "outputs": [
    {
     "data": {
      "image/png": "[encoded data removed]",
      "text/plain": [
       "<Figure size 432x288 with 1 Axes>"
      ]
     },
     "metadata": {
      "needs_background": "light"
     },
     "output_type": "display_data"
    }
   ],
   "source": [
    "# Take a look at intensity distributions.\n",
    "plt.hist(fits[:,3]);"
   ]
  },
  {
   "cell_type": "code",
   "execution_count": 17,
   "metadata": {},
   "outputs": [
    {
     "data": {
      "application/vnd.jupyter.widget-view+json": {
       "model_id": "b7fea0ed94694edcb871aecca427246d",
       "version_major": 2,
       "version_minor": 0
      },
      "text/plain": [
       "interactive(children=(Dropdown(description='Color', index=5, options=('gray', 'plasma', 'Reds', 'magma', 'viri…"
      ]
     },
     "metadata": {},
     "output_type": "display_data"
    }
   ],
   "source": [
    "fits_filtered = fits[fits[:,3] > 2000]\n",
    "boxes = box_spots(dog_n, fits_filtered, shadows=False, halfwidth_xy=3, halfwidth_z=0)\n",
    "viewer(boxes.max(axis=0), 6)"
   ]
  },
  {
   "cell_type": "markdown",
   "metadata": {},
   "source": [
    "Or you could define some kind of circularity criterion, such as the ratio of x and y widths (should be close to 1 for true circles):"
   ]
  },
  {
   "cell_type": "code",
   "execution_count": 18,
   "metadata": {
    "scrolled": true
   },
   "outputs": [
    {
     "data": {
      "image/png": "[encoded data removed]",
      "text/plain": [
       "<Figure size 432x288 with 1 Axes>"
      ]
     },
     "metadata": {
      "needs_background": "light"
     },
     "output_type": "display_data"
    }
   ],
   "source": [
    "circularity = abs(np.log(fits[:,5] / fits[:,6]))\n",
    "plt.hist(circularity);"
   ]
  },
  {
   "cell_type": "markdown",
   "metadata": {},
   "source": [
    "It looks like most of them are low (perfect circles would be 0), but there are a few outliers. Let's see what these are:"
   ]
  },
  {
   "cell_type": "code",
   "execution_count": 19,
   "metadata": {},
   "outputs": [
    {
     "data": {
      "application/vnd.jupyter.widget-view+json": {
       "model_id": "2c6169293bc840478dc75c980a6926d3",
       "version_major": 2,
       "version_minor": 0
      },
      "text/plain": [
       "interactive(children=(Dropdown(description='Color', index=5, options=('gray', 'plasma', 'Reds', 'magma', 'viri…"
      ]
     },
     "metadata": {},
     "output_type": "display_data"
    }
   ],
   "source": [
    "# Where are objects that are NOT circular.\n",
    "fits_filtered = fits[circularity > 1]\n",
    "boxes = box_spots(dog_n, fits_filtered, shadows=False, halfwidth_xy=3, halfwidth_z=0)\n",
    "viewer(boxes.max(axis=0), 6)"
   ]
  },
  {
   "cell_type": "markdown",
   "metadata": {},
   "source": [
    "Aha! Those do indeed seem to not be spots. So that's something...\n",
    "\n",
    "For my MS2 stuff, I've been using a \"peakiness\" measure defined as the ratio of the intensity to the width of the gaussian fit (this is the 3D equivalent of taking the height to width ratio of a 1D gaussian curve). Dunno if this is a good approach here, but I'd just play around, generally."
   ]
  },
  {
   "cell_type": "code",
   "execution_count": 20,
   "metadata": {},
   "outputs": [
    {
     "data": {
      "application/vnd.jupyter.widget-view+json": {
       "model_id": "102baae686bd440c9c6b56c9c966b7e4",
       "version_major": 2,
       "version_minor": 0
      },
      "text/plain": [
       "interactive(children=(Dropdown(description='Color', index=5, options=('gray', 'plasma', 'Reds', 'magma', 'viri…"
      ]
     },
     "metadata": {},
     "output_type": "display_data"
    }
   ],
   "source": [
    "peakiness = np.log(fits[:,3] / np.mean(fits[:,5:7], axis=1))\n",
    "fits_filtered = fits[peakiness > 5.5]\n",
    "viewer(box_spots(dog_n.astype('uint16'), fits_filtered, shadows=False, halfwidth_xy=3, halfwidth_z=0).max(axis=0), 6)\n",
    "#viewer(box_spots(dog_n.astype('uint16'), fits_filtered, shadows=False, halfwidth_xy=3, halfwidth_z=0), 6)"
   ]
  }
 ],
 "metadata": {
  "kernelspec": {
   "display_name": "Python (im)",
   "language": "python",
   "name": "im"
  },
  "language_info": {
   "codemirror_mode": {
    "name": "ipython",
    "version": 3
   },
   "file_extension": ".py",
   "mimetype": "text/x-python",
   "name": "python",
   "nbconvert_exporter": "python",
   "pygments_lexer": "ipython3",
   "version": "3.8.3"
  }
 },
 "nbformat": 4,
 "nbformat_minor": 4
}
