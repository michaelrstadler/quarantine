{
 "cells": [
  {
   "cell_type": "markdown",
   "metadata": {},
   "source": [
    "# 2020-06-15: Analyzing Augusto's MS2 data\n",
    "\n",
    "I ended up going off the rails last notebook and doing a bunch of work on analyzing confocal MS2 data, which has some interesting differences from lattice data, particularly the fact that nuclei are arranged in a monolayer which makes them much easier to segment. \n"
   ]
  },
  {
   "cell_type": "code",
   "execution_count": 1,
   "metadata": {},
   "outputs": [],
   "source": [
    "# Import public packages.\n",
    "import numpy as np\n",
    "import matplotlib.pyplot as plt\n",
    "from scipy import ndimage as ndi \n",
    "from importlib import reload\n",
    "import pickle\n",
    "import czifile\n",
    "%matplotlib inline\n",
    "\n",
    "# Import my packages.\n",
    "import sys\n",
    "sys.path.append('/Users/MStadler/Bioinformatics/Projects/Zelda/Quarantine_analysis/bin')\n",
    "import imagep as imp\n",
    "reload(imp)\n",
    "from imagep import viewer, save_pickle, load_pickle, box_spots"
   ]
  },
  {
   "cell_type": "code",
   "execution_count": 2,
   "metadata": {},
   "outputs": [],
   "source": [
    "stack = czifile.imread('/Users/MStadler/Bioinformatics/Projects/Zelda/Quarantine_analysis/data/EVE_D11-14.czi')\n",
    "stack = np.squeeze(stack)\n",
    "stack = np.swapaxes(stack,0,1)\n",
    "stack = stack[:,0:20]"
   ]
  },
  {
   "cell_type": "markdown",
   "metadata": {},
   "source": [
    "### Note:\n",
    "Changed __segment_nuclei3D_monolayer__ to make a 3D mask out of the 2D mask. Just repeats the 2D mask enough times to fill the first dimension of the input stack."
   ]
  },
  {
   "cell_type": "code",
   "execution_count": 30,
   "metadata": {},
   "outputs": [],
   "source": [
    "mask4d = imp.segment_nuclei4D(stack[1], imp.segment_nuclei3D_monolayer, imp.update_labels_withmemory, 5, sigma1=4, min_seed_dist=13, size_max=5000)\n"
   ]
  },
  {
   "cell_type": "code",
   "execution_count": 4,
   "metadata": {},
   "outputs": [
    {
     "data": {
      "application/vnd.jupyter.widget-view+json": {
       "model_id": "aa929141615a4c0692f0cada9413fde9",
       "version_major": 2,
       "version_minor": 0
      },
      "text/plain": [
       "interactive(children=(Dropdown(description='Color', options=('viridis', 'magma', 'inferno', 'plasma', 'Greens'…"
      ]
     },
     "metadata": {},
     "output_type": "display_data"
    }
   ],
   "source": [
    "viewer(mask4d, 'tzxy')"
   ]
  },
  {
   "cell_type": "code",
   "execution_count": 3,
   "metadata": {},
   "outputs": [],
   "source": [
    "#nucmask_file = '/Users/MStadler/Bioinformatics/Projects/Zelda/Quarantine_analysis/results/EVE_D11-14_nucmask.pkl'\n",
    "#save_pickle(mask4d, nucmask_file)\n",
    "mask4d = load_pickle('/Users/MStadler/Bioinformatics/Projects/Zelda/Quarantine_analysis/results/EVE_D11-14_nucmask.pkl')"
   ]
  },
  {
   "cell_type": "code",
   "execution_count": 12,
   "metadata": {},
   "outputs": [
    {
     "name": "stdout",
     "output_type": "stream",
     "text": [
      "1\n",
      "2\n",
      "3\n",
      "4\n",
      "5\n",
      "6\n",
      "7\n",
      "8\n",
      "9\n",
      "10\n",
      "11\n",
      "12\n",
      "13\n",
      "14\n",
      "15\n",
      "16\n",
      "17\n",
      "18\n",
      "19\n"
     ]
    }
   ],
   "source": [
    "spot_data = imp.ms2_segment_stack(stack, mask4d, peak_window_size=(20,15,15), h_stringency=0, xy_max_width=10)\n",
    "\n"
   ]
  },
  {
   "cell_type": "code",
   "execution_count": 13,
   "metadata": {},
   "outputs": [],
   "source": [
    "save_pickle(spot_data,'/Users/MStadler/Bioinformatics/Projects/Zelda/Quarantine_analysis/results/EVE_D11-14_spot_data.pkl')"
   ]
  },
  {
   "cell_type": "code",
   "execution_count": 8,
   "metadata": {},
   "outputs": [],
   "source": [
    "def quickview_ms2(stack, spot_data, channel=0):\n",
    "    \"\"\"View image stack with boxes drawn around detected spots\n",
    "    \n",
    "    Args:\n",
    "        stack: ndarray\n",
    "            5d image stack [c,t,z,x,y]\n",
    "        spot_data: dict of ndarrays\n",
    "            Data containing tracking of spots detected. Dict entries are unique \n",
    "            spot IDs (numeric 1...), rows of ndarray are detections of the spot \n",
    "            in a single frame. Time must be column 0, [z,x,y] in columns 2:4.\n",
    "        channel: int\n",
    "            Channel (dimension 0) to be viewed\n",
    "    \"\"\"\n",
    "    substack = stack[channel]\n",
    "    boxes = box_spots(substack, spot_data, halfwidth_xy=6, linewidth=2)\n",
    "    viewer(boxes.max(axis=1), 'txy', 15)"
   ]
  },
  {
   "cell_type": "code",
   "execution_count": 11,
   "metadata": {},
   "outputs": [
    {
     "data": {
      "application/vnd.jupyter.widget-view+json": {
       "model_id": "4ba37c6b594c4a07b283f6c7dc00c401",
       "version_major": 2,
       "version_minor": 0
      },
      "text/plain": [
       "interactive(children=(Dropdown(description='Color', options=('viridis', 'magma', 'inferno', 'plasma', 'Greens'…"
      ]
     },
     "metadata": {},
     "output_type": "display_data"
    }
   ],
   "source": [
    "quickview_ms2(stack, spot_data)"
   ]
  },
  {
   "cell_type": "markdown",
   "metadata": {},
   "source": [
    "## Reworking MS2 segmentation\n",
    "OK, I realize there's a problem. The problem is that the MS2 spot detection takes forever, and the time is spent on the fitting. It's not that it takes so long to run, it's that if you need to re-run it just to use different filters on the fits, it is ridiculous to re-do the fits. It seems obvious that a better way to structure this is to do the fitting on every frame, store that, and then do the filtering and connecting on that object separately. It doesn't change anything algorithmically (all the underlying processes are the same), but it's a much smarter way to organize it.\n",
    "\n",
    "Going to write three functions:\n",
    "\n",
    "1. Fit a 4D stack\n",
    "2. Filter fit data from 4D stack, put it into dictionary format.\n",
    "3. Connect fit data (this may not need to be updated at all--it shouldn't)."
   ]
  },
  {
   "cell_type": "code",
   "execution_count": 16,
   "metadata": {},
   "outputs": [],
   "source": [
    "def fit_ms2(stack, peak_window_size=(70,50,50), sigma_small=0.5, \n",
    "                   sigma_big=4, bg_radius=4, fitwindow_rad_xy=5, \n",
    "                   fitwindow_rad_z=9):  \n",
    "    \"\"\"Perform 3D gaussian fitting on local maxima in a 4D image stack\n",
    "    \n",
    "    Alrigthm: bandbass filter -> background subtraction -> find local maxima\n",
    "    -> fit gaussian to windows around maxima\n",
    "    \n",
    "    Args:\n",
    "        stack: ndarray\n",
    "            4D image stack [t,z,x,y] containing MS2 spots\n",
    "        peak_window_size: tuple of three ints\n",
    "            Size in [z,x,y] of window used to find local maxima. Typically\n",
    "            set to the approximage dimensions of nuclei.\n",
    "        sigma_small: numeric\n",
    "            Lower sigma for difference-of-gaussians bandpass filter\n",
    "        sigma_small: numeric\n",
    "            Upper sigma for difference-of-gaussians bandpass filter\n",
    "        bg_radius: int\n",
    "            Radius for minimum filter used for background subtraction\n",
    "        fitwindow_rad_xy: int\n",
    "            Radius in pixels in the xy-dimension of the window around local\n",
    "            maxima peaks within which to do gaussian fitting.\n",
    "        fitwindow_rad_z: int\n",
    "            Radius in pixels in the z-dimension of the window around local\n",
    "            maxima peaks within which to do gaussian fitting.\n",
    "    \n",
    "    Returns:\n",
    "        fit_data: list of ndarrays\n",
    "            Each entry in the list is a time point (frame). Each row in\n",
    "            array is a fit (a single local maxima), columns are: 0: center \n",
    "            z-coordinate, 1: center x-coordinate, 2: center y-coordinate, \n",
    "            3: width_z, 4: fit_height, 5: width_x, 6: width_y). Coordinates \n",
    "            are adjusted so that if fit center lies outside the image, \n",
    "            center is moved to the edge.\n",
    "    \"\"\"\n",
    "    def get_fitwindow(data, peak, xy_rad=5, z_rad=9):\n",
    "        \"\"\"Retrieve section of image stack corresponding to given\n",
    "        window around a point\"\"\"\n",
    "        zmin = max(0,peak[0] - z_rad)\n",
    "        zmax = min(data.shape[0] - 1, peak[0] + z_rad)\n",
    "        xmin = max(0,peak[1] - xy_rad)\n",
    "        xmax = min(data.shape[1] - 1, peak[1] + xy_rad)\n",
    "        ymin = max(0,peak[2] - xy_rad)\n",
    "        ymax = min(data.shape[2] - 1, peak[2] + xy_rad)\n",
    "        # Get adjustments in each direction — value to subtract from relative\n",
    "        # coordinates to center them at 0,0,0 in the window center.\n",
    "        z_adj, x_adj, y_adj = int((zmax-zmin)/2), int((xmax-xmin)/2), int((ymax-ymin)/2)\n",
    "        return data[zmin:(zmax+1), xmin:(xmax+1), ymin:(ymax+1)], z_adj, x_adj, y_adj\n",
    "    \n",
    "    def relabel(peak_ids, oldparams, mask):\n",
    "        \"\"\"Renumber labelmask and corresponding fit parameters\n",
    "        Set background as 0, objects in order 1...end.\n",
    "        \"\"\"\n",
    "        spot_data = {}\n",
    "        peak_num = 1\n",
    "        for peak in peak_ids:\n",
    "            #coords = np.where(mask == peak)\n",
    "            paramsnew = oldparams[peak-1,:] # object 1 will be fitparams row 0\n",
    "            # Rearrange params from fit function so coordinates lead.\n",
    "            spot_data[peak_num] = paramsnew[[1,2,3,0,4,5,6]]\n",
    "            peak_num = peak_num + 1\n",
    "        return spot_data\n",
    "\n",
    "    def clamp(n, minn, maxn):\n",
    "        \"\"\"Bound a number between two constants\"\"\"\n",
    "        return max(min(maxn, n), minn)\n",
    "    \n",
    "    def fit_frame(substack, peak_window_size, sigma_small, \n",
    "                   sigma_big, bg_radius, fitwindow_rad_xy, \n",
    "                   fitwindow_rad_z):\n",
    "        \"\"\"Perform 3D gaussian fitting on a 3D image stack.\"\"\"\n",
    "        \n",
    "        # Filter and background subtract image.\n",
    "        dog = dog_filter(substack, sigma_small, sigma_big)\n",
    "        bg = ndi.filters.minimum_filter(dog, bg_radius)\n",
    "        dog_bs = dog - bg\n",
    "\n",
    "        # Make a labelmask corresponding to local maxima peaks.\n",
    "        mask, peaks = peak_local_max_nD(dog_bs, peak_window_size)\n",
    "\n",
    "        # Fit 3D gaussian in window surrounding each local maximum.\n",
    "        fitparams = np.ndarray((0,7))\n",
    "        for peak in peaks:\n",
    "            fitwindow, z_adj, x_adj, y_adj = get_fitwindow(substack, peak, fitwindow_rad_xy, \n",
    "                fitwindow_rad_z)\n",
    "            opt = fitgaussian3d(fitwindow)\n",
    "            if opt.success:\n",
    "                peak_fitparams = opt.x\n",
    "                # Move center coordinates to match center of gaussian fit, ensure they're within image. \n",
    "                # If they're outside the image, coordinate is assigned as the edge of the image.\n",
    "                peak_fitparams[0] = clamp(int(peak[0] + peak_fitparams[0] - z_adj), 0, substack.shape[-3]-1)\n",
    "                peak_fitparams[1] = clamp(int(peak[1] + peak_fitparams[1] - x_adj), 0, substack.shape[-2]-1)\n",
    "                peak_fitparams[2] = clamp(int(peak[2] + peak_fitparams[2] - y_adj), 0, substack.shape[-1]-1)\n",
    "                fitparams = np.vstack((fitparams, peak_fitparams))\n",
    "            # If fit fails, add dummy entry for spot.\n",
    "            else:\n",
    "                fitparams = np.vstack((fitparams, np.array([0,0,0,0,np.inf,np.inf,np.inf])))\n",
    "        return fitparams\n",
    "    \n",
    "    #### Main ####\n",
    "    # Do fitting on first frame.\n",
    "    fit_data_frame0 = fit_frame(stack[0], peak_window_size, sigma_small, \n",
    "                   sigma_big, bg_radius, fitwindow_rad_xy, \n",
    "                   fitwindow_rad_z)\n",
    "    # Make fit_data a list of ndarrays.\n",
    "    fit_data = [fit_data_frame0]\n",
    "    \n",
    "    # Fit the rest of the frames, add their data to fit_data.\n",
    "    for i in range(1, stack.shape[0]):\n",
    "        print(i)\n",
    "        fit_data_thisframe = fit_frame(stack[i], peak_window_size, sigma_small, \n",
    "                   sigma_big, bg_radius, fitwindow_rad_xy, \n",
    "                   fitwindow_rad_z)\n",
    "        fit_data.append(fit_data_thisframe)\n",
    "        \n",
    "    return fit_data"
   ]
  },
  {
   "cell_type": "code",
   "execution_count": 154,
   "metadata": {},
   "outputs": [],
   "source": [
    "def filter_ms2fits(stack, fit_data, h_stringency=1, xy_max_width=15):\n",
    "    \"\"\"Filter MS2 spot fit data based on fit parameters\n",
    "    \n",
    "    Select spots that have a minimum fit height (intensity) and a maximum \n",
    "    lateral (xy) width.\n",
    "    \n",
    "    Args:\n",
    "        stack: ndarray\n",
    "            4D imaging stack [t,z,x,y] that the fitting was performed on\n",
    "        fit_data: list of ndarrays\n",
    "            Each entry in list is a distinct frame (in time), rows in array\n",
    "            are individual spot fits and columns are 0: center \n",
    "            z-coordinate, 1: center x-coordinate, 2: center y-coordinate, \n",
    "            3: width_z, 4: fit_height, 5: width_x, 6: width_y.\n",
    "        h_stringency: numeric\n",
    "            Determines minimum fit height cutoff, expressed as the number\n",
    "            of standard deviations above the mean for the entire stack.\n",
    "        xy_max_width: numeric\n",
    "            Maximum width (in pixels) of the mean of the x and y widths of\n",
    "            the fit\n",
    "    \n",
    "    Returns:\n",
    "        fit_data: list of ndarrays\n",
    "            Input data, retaining only rows that pass filter.  \n",
    "    \"\"\"\n",
    "    \n",
    "    fit_data = fit_data.copy()\n",
    "    for t in range(0, len(fit_data)):\n",
    "        frame_data = fit_data[t]\n",
    "        # Define threshold for height.\n",
    "        mean_ = np.mean(stack[t])\n",
    "        std = np.std(stack[t])\n",
    "        h_thresh = mean_ + (std * h_stringency)\n",
    "        # Filter array based on min height and max width.\n",
    "        frame_data_filtered = frame_data[(frame_data[:,3] >= h_thresh) &\n",
    "                    (np.mean(frame_data[:,5:7], axis=1) < xy_max_width),:]\n",
    "        fit_data[t] = frame_data_filtered\n",
    "    return fit_data"
   ]
  },
  {
   "cell_type": "code",
   "execution_count": 109,
   "metadata": {
    "collapsed": true
   },
   "outputs": [
    {
     "name": "stdout",
     "output_type": "stream",
     "text": [
      "1\n",
      "2\n"
     ]
    }
   ],
   "source": [
    "reload(imp)\n",
    "from imagep import dog_filter, peak_local_max_nD\n",
    "from fitting import fitgaussian3d\n",
    "test = stack[0,0:3,:,200:300,0:1000]\n",
    "fit_data2=fit_ms2(test)"
   ]
  },
  {
   "cell_type": "code",
   "execution_count": 110,
   "metadata": {
    "collapsed": true
   },
   "outputs": [
    {
     "data": {
      "text/plain": [
       "array([[0.00000000e+00, 9.00000000e+00, 6.19000000e+02, 1.79520154e+03,\n",
       "        2.02821085e+01, 3.26250454e+01, 2.14983298e+01],\n",
       "       [0.00000000e+00, 9.00000000e+00, 8.47000000e+02, 1.75054490e+03,\n",
       "        1.69843966e+01, 5.07017530e+01, 1.94191970e+01],\n",
       "       [0.00000000e+00, 1.20000000e+01, 1.02000000e+02, 1.85538706e+03,\n",
       "        1.90434725e+01, 5.17509803e+01, 1.95830899e+01],\n",
       "       [0.00000000e+00, 1.90000000e+01, 6.00000000e+00, 1.87945136e+03,\n",
       "        1.30424712e+01, 3.08964944e+01, 3.29274870e+01],\n",
       "       [0.00000000e+00, 4.70000000e+01, 1.23000000e+02, 2.04254391e+03,\n",
       "        9.25347309e+00, 2.64775990e+01, 1.68342298e+01],\n",
       "       [0.00000000e+00, 4.80000000e+01, 3.84000000e+02, 1.92085120e+03,\n",
       "        1.37101614e+01, 1.10059291e+01, 9.40490456e+01],\n",
       "       [0.00000000e+00, 5.30000000e+01, 6.31000000e+02, 1.77512410e+03,\n",
       "        2.13928180e+01, 1.36287849e+01, 1.18004089e+01],\n",
       "       [0.00000000e+00, 4.80000000e+01, 9.40000000e+01, 1.89588895e+03,\n",
       "        1.68801699e+01, 1.48426222e+01, 3.93720881e+01],\n",
       "       [0.00000000e+00, 6.00000000e+00, 9.05000000e+02, 3.00602377e+03,\n",
       "        8.68883774e+00, 5.31963731e+00, 5.55879586e+00],\n",
       "       [0.00000000e+00, 1.80000000e+01, 4.63000000e+02, 3.64384024e+04,\n",
       "        1.01955262e+00, 1.22201890e+00, 1.10307211e+00],\n",
       "       [2.00000000e+00, 6.00000000e+00, 1.90000000e+02, 4.01865335e+03,\n",
       "        6.08784389e+00, 4.14829130e+00, 4.59621819e+00],\n",
       "       [3.00000000e+00, 1.30000000e+01, 4.35000000e+02, 2.73396766e+04,\n",
       "        1.21566982e+00, 1.34852777e+00, 1.36056615e+00],\n",
       "       [0.00000000e+00, 3.60000000e+01, 5.00000000e+01, 1.86520252e+03,\n",
       "        1.66770388e+01, 2.65951736e+01, 2.24308672e+01],\n",
       "       [5.00000000e+00, 1.10000000e+01, 2.27000000e+02, 3.51844356e+03,\n",
       "        7.23452721e+00, 5.28079832e+00, 5.65835698e+00],\n",
       "       [5.00000000e+00, 5.40000000e+01, 5.30000000e+02, 2.60440007e+03,\n",
       "        8.85571286e+00, 5.25454538e+00, 6.23384768e+00],\n",
       "       [7.00000000e+00, 4.00000000e+00, 9.74000000e+02, 2.05271539e+03,\n",
       "        1.18641565e+01, 7.66221881e+00, 9.24914210e+00],\n",
       "       [7.00000000e+00, 7.00000000e+00, 7.21000000e+02, 3.43960172e+03,\n",
       "        6.94370898e+00, 5.35467393e+00, 5.00305081e+00],\n",
       "       [6.00000000e+00, 1.60000000e+01, 5.00000000e+02, 2.63887287e+03,\n",
       "        1.00021314e+01, 6.53035991e+00, 6.60658779e+00],\n",
       "       [9.00000000e+00, 5.00000000e+00, 7.57000000e+02, 2.31643126e+03,\n",
       "        1.20766631e+01, 8.27029289e+00, 7.87061184e+00],\n",
       "       [9.00000000e+00, 4.20000000e+01, 2.66000000e+02, 2.76757023e+04,\n",
       "        1.67804232e+00, 1.33330411e+00, 1.31644008e+00],\n",
       "       [2.00000000e+00, 3.00000000e+00, 2.73000000e+02, 2.06750164e+03,\n",
       "        2.20217841e+01, 1.11667197e+01, 1.19003279e+01],\n",
       "       [9.00000000e+00, 2.10000000e+01, 5.45000000e+02, 2.15357329e+03,\n",
       "        1.47308669e+01, 7.38605439e+00, 8.42917295e+00],\n",
       "       [1.00000000e+01, 3.60000000e+01, 7.16000000e+02, 5.39555660e+03,\n",
       "        5.33628910e+00, 3.18676421e+00, 3.53213807e+00],\n",
       "       [1.00000000e+01, 4.30000000e+01, 9.90000000e+02, 3.78462019e+03,\n",
       "        6.79315142e+00, 4.39357041e+00, 4.27671709e+00],\n",
       "       [1.20000000e+01, 2.00000000e+00, 9.39000000e+02, 3.26203361e+03,\n",
       "        6.43806140e+00, 4.02038541e+00, 4.33347273e+00],\n",
       "       [5.00000000e+00, 4.20000000e+01, 5.74000000e+02, 1.64120039e+03,\n",
       "        2.48663452e+01, 1.00853363e+02, 2.55843944e+01],\n",
       "       [5.00000000e+00, 3.30000000e+01, 8.48000000e+02, 1.56249062e+03,\n",
       "        1.83174762e+01, 4.65456993e+03, 5.48673772e+01],\n",
       "       [1.30000000e+01, 1.90000000e+01, 3.04000000e+02, 2.07194260e+03,\n",
       "        1.17055357e+01, 7.90104203e+00, 8.23550764e+00],\n",
       "       [2.00000000e+01, 5.00000000e+01, 2.37000000e+02, 3.50810941e+03,\n",
       "        1.02134337e+01, 4.52864129e+00, 4.11266926e+00],\n",
       "       [1.60000000e+01, 4.70000000e+01, 7.87000000e+02, 1.41864711e+03,\n",
       "        2.75004427e+01, 4.25980335e+01, 4.32376875e+01]])"
      ]
     },
     "execution_count": 110,
     "metadata": {},
     "output_type": "execute_result"
    }
   ],
   "source": [
    "fit_data2[0]"
   ]
  },
  {
   "cell_type": "code",
   "execution_count": 58,
   "metadata": {},
   "outputs": [],
   "source": [
    "filtered_fits=filter_ms2fits(stack[0],fit_data, )"
   ]
  },
  {
   "cell_type": "code",
   "execution_count": 126,
   "metadata": {},
   "outputs": [],
   "source": [
    "def connect_ms2_frames(spot_data, nucmask, max_frame_gap=1, max_jump=10, \n",
    "    scale_xy=1, scale_z=1):\n",
    "    \"\"\"Connect detected MS2 spots through multiple time frames.\n",
    "    \n",
    "    Spots detected in new frame are connected to spots in previous frames\n",
    "    if they are within specified distance (max_jump). Spots can \"disappear\" \n",
    "    for a number of frames defined by max_frame_gap. Spots that cannot be \n",
    "    connected to spots from prior frames are initialized as new spots.\n",
    "    \n",
    "    Args:\n",
    "        spot_data: list of ndarrays\n",
    "            Each entry in list is a distinct frame (in time), rows in array\n",
    "            are individual detected spots and columns are 0: center \n",
    "            z-coordinate, 1: center x-coordinate, 2: center y-coordinate, \n",
    "            3: width_z, 4: fit_height, 5: width_x, 6: width_y.\n",
    "        nucmask: ndarray\n",
    "            4D labelmask of dimensions [t,z,x,y] of segmented nuclei. 0 is \n",
    "            background (not a nucleus) and nuclei have integer labels.\n",
    "        max_frame_gap: int\n",
    "            Maximum number of frames from which spot can be absent and still\n",
    "            connected across the gap. Example: for a value of 1, a spot\n",
    "            detected in frame 6 and absent from frame 7 can be connected to\n",
    "            a spot in frame 8, but a spot in frame 5 cannot be connected to\n",
    "            frame 8 if it is absent in frames 6 and 7.\n",
    "        max_jump: numeric\n",
    "            Maximum 3D displacement between frames for two spots to be connected\n",
    "        scale_xy: numeric\n",
    "            Distance scale for xy direction (typically: nm per pixel)\n",
    "        scale_z: numeric\n",
    "            Distance scale for z direction (typically: nm per pixel)\n",
    "        \n",
    "    Returns:\n",
    "        connected_data: dict of ndarrays\n",
    "            Each key is a unique spot tracked across 1 or more frames. Each row\n",
    "            of array is the spot's data for a single frame, with columns 0: frame\n",
    "            number (t), 1: nucleus ID, 2: center Z-coordinate, 3: center X-coord-\n",
    "            inate, 4: center Y-coordinate, 5: fit height, 6: fit z_width, 7: fit\n",
    "            x_width, 8: fit y_width\n",
    "    \"\"\"\n",
    "    def initialize_new_spot(new_spot_data, connected_data):\n",
    "        \"\"\"Initialize new spot with next numeric ID and entry in connected_data.\"\"\"\n",
    "        if (connected_data.keys()):\n",
    "            new_id = max(connected_data.keys()) + 1\n",
    "        else:\n",
    "            new_id = 1\n",
    "        connected_data[new_id] = np.expand_dims(new_spot_data, 0)\n",
    "\n",
    "    def sq_euc_distance(coords1, coords2, scale_z=1, scale_xy=1):\n",
    "        \"\"\"Find the squared euclidean distance between two points.\"\"\"\n",
    "        z2 = ((coords2[0] - coords1[0]) * scale_z) ** 2\n",
    "        x2 = ((coords2[1] - coords1[1]) * scale_xy) ** 2\n",
    "        y2 = ((coords2[2] - coords1[2]) * scale_xy) ** 2\n",
    "        sed = z2 + x2 + y2\n",
    "        return sed\n",
    "    \n",
    "    def coord_list_t(connected_data, t):\n",
    "        \"\"\"Make a list of [z,x,y] coordinate tuples for all spots in a given\n",
    "        frame\"\"\"\n",
    "        coord_list = []\n",
    "        for spot_id in connected_data:\n",
    "            this_spot_data = connected_data[spot_id]\n",
    "            row = this_spot_data[this_spot_data[:,0] == t]\n",
    "            if (len(row) > 0):\n",
    "                row = list(row[0])\n",
    "                spot_coords = [spot_id] + row[2:5]\n",
    "                coord_list.append(spot_coords)\n",
    "        return coord_list\n",
    "            \n",
    "    \n",
    "    def find_nearest_spot(this_coord, coord_list, scale_z, scale_xy):\n",
    "        \"\"\"For a given point, find the closest spot in a coordinate list\n",
    "        and the distance between the points.\"\"\"\n",
    "        closest_sed = np.inf\n",
    "        closest_spot = 0\n",
    "        for test_data in coord_list:\n",
    "            test_spot_id = test_data[0]\n",
    "            test_coords = (test_data[1:4])\n",
    "            sed = sq_euc_distance(test_coords, this_coord, scale_z, scale_xy)\n",
    "            if (sed < closest_sed):\n",
    "                closest_sed = sed\n",
    "                closest_spot = test_spot_id\n",
    "                closest_spot_coords = test_coords\n",
    "        return closest_spot, np.sqrt(closest_sed), closest_spot_coords\n",
    "\n",
    "    def update_spot(this_spot_data, connected_data, scale_z, scale_xy, max_frame_gap, \n",
    "                    t):\n",
    "        \"\"\"Walk back one frame at a time within limit set by maximum gap, search \n",
    "        for a nearest spot that is within the maximum allowable jump, handle \n",
    "        duplicates, add connected points to connected_data.\"\"\"\n",
    "        this_spot_coords = (this_spot_data[2:5])\n",
    "        # Walk back one frame at a time.\n",
    "        for t_lag in range(1, max_frame_gap + 2):\n",
    "            if ((t - t_lag) >= 0):\n",
    "                # Get nearest spot in the current frame.\n",
    "                spot_coords_tlag = coord_list_t(connected_data, t - t_lag)\n",
    "                # If there are no previously detected spots, break from for loop and initialize new spot entry.\n",
    "                if (len(spot_coords_tlag) == 0):\n",
    "                    break\n",
    "                nearest_spot_id, dist, nearest_spot_coords = find_nearest_spot(this_spot_coords, spot_coords_tlag, scale_z, scale_xy)\n",
    "                # Check is spot is within max distance.\n",
    "                if (dist <= max_jump):\n",
    "                    this_spot_nucID = this_spot_data[1]\n",
    "                    nearest_spot_nucID = connected_data[nearest_spot_id][-1,1]\n",
    "                    # Check if there's already a spot added for this time.\n",
    "                    existing = connected_data[nearest_spot_id][connected_data[nearest_spot_id][:,0] == t]\n",
    "                    # If there's no existing spot, add this spot to the end of the data for connected spot.\n",
    "                    if (len(existing) == 0):\n",
    "                        connected_data[nearest_spot_id] = np.append(connected_data[nearest_spot_id], [this_spot_data], axis=0)\n",
    "                        return\n",
    "                    # If there is an existing spot, if the current spot is closer to the previous-frame spot\n",
    "                    # than the existing entry, replace it. Otherwise, continue looking in previous frames (if\n",
    "                    # applicable) and eventually create new spot after for loop. I'm not sure this is the best\n",
    "                    # behavior--may consider dumping out of for loop and creating new spot rather than looking\n",
    "                    # to previous frames in this situation.\n",
    "                    else:\n",
    "                        existing_dist = np.sqrt(sq_euc_distance(nearest_spot_coords, existing[0,2:5], scale_z, scale_xy))\n",
    "                        # If the the current spot is closer than the existing spot, replace \n",
    "                        # existing and initialize it as a new spot.\n",
    "                        if (dist < existing_dist):\n",
    "                            row_index = np.where(connected_data[nearest_spot_id][:,0] == t)[0][0]\n",
    "                            superseded_spot_data = connected_data[nearest_spot_id][row_index]\n",
    "                            # Superseded spot from this frame gets bumped to be a new spot.\n",
    "                            initialize_new_spot(superseded_spot_data, connected_data)\n",
    "                            # Replace data for superseded spot with this spot's data.\n",
    "                            connected_data[nearest_spot_id][row_index] = this_spot_data\n",
    "                            return\n",
    "\n",
    "        # If no suitable spot was found in previous frames, make a new spot.\n",
    "        initialize_new_spot(this_spot_data, connected_data)\n",
    "    \n",
    "    def add_time_nuc(this_spot_data, t, nucmask):\n",
    "        \"\"\" Append the frame number (t) and nucleus ID to front of spot_data\"\"\"\n",
    "        spot_coords = tuple(np.append([t], this_spot_data[0:3]).astype(int))\n",
    "        nuc_id = nucmask[spot_coords]\n",
    "        # Add time and nuclear ID columns to spot data and call update to search \n",
    "        # for connected spots in previous frames.\n",
    "        this_spot_data = np.append([t, nuc_id], this_spot_data)\n",
    "        return this_spot_data\n",
    "    \n",
    "    def initialize_connected_data(frame_data):\n",
    "        \"\"\"Initialize connected_data structure as a dict where each entry\n",
    "        is a unique spot and the array rows are data for single frames\"\"\"\n",
    "        connected_data = {}\n",
    "        for i in range(0, len(frame_data)):\n",
    "            this_spot_data = add_time_nuc(frame_data[i], 0, nucmask)\n",
    "            connected_data[i+1] = np.array([this_spot_data])\n",
    "        return connected_data\n",
    "        \n",
    "    # Main\n",
    "    input_data = spot_data.copy()\n",
    "    connected_data = initialize_connected_data(input_data[0])\n",
    "\n",
    "    # Go through each frame, attempt to connect each detected spot to previous spots.\n",
    "    for t in range(1, len(input_data)):\n",
    "        frame_data = input_data[t]\n",
    "        for this_spot_data in frame_data:\n",
    "            this_spot_data = add_time_nuc(this_spot_data, t, nucmask)\n",
    "            update_spot(this_spot_data, connected_data, scale_z, scale_xy, max_frame_gap, t)\n",
    "    \n",
    "    return connected_data  "
   ]
  },
  {
   "cell_type": "code",
   "execution_count": 186,
   "metadata": {},
   "outputs": [],
   "source": [
    "def filter_spot_duration(connected_data, min_len):\n",
    "    \"\"\"\"\"\"\n",
    "    filtered_data = {}\n",
    "    for spot in connected_data:\n",
    "        if (connected_data[spot].shape[0] >= min_len):\n",
    "            filtered_data[spot] = connected_data[spot]\n",
    "    return filtered_data"
   ]
  },
  {
   "cell_type": "code",
   "execution_count": 217,
   "metadata": {},
   "outputs": [],
   "source": [
    "save_pickle(fit_data4, '/Users/MStadler/Bioinformatics/Projects/Zelda/Quarantine_analysis/data/EVE_D11-14_fit_data.pkl')"
   ]
  },
  {
   "cell_type": "code",
   "execution_count": 191,
   "metadata": {},
   "outputs": [],
   "source": [
    "filtered_fits=filter_ms2fits(test,fit_data4, h_stringency=0.2, xy_max_width=15)"
   ]
  },
  {
   "cell_type": "code",
   "execution_count": 192,
   "metadata": {},
   "outputs": [],
   "source": [
    "connected_data = connect_ms2_frames(filtered_fits, np.ones_like(test))"
   ]
  },
  {
   "cell_type": "code",
   "execution_count": 197,
   "metadata": {},
   "outputs": [],
   "source": [
    "connected_data_f = filter_spot_duration(connected_data,3)"
   ]
  },
  {
   "cell_type": "code",
   "execution_count": 211,
   "metadata": {},
   "outputs": [
    {
     "data": {
      "application/vnd.jupyter.widget-view+json": {
       "model_id": "bbad9c4cc5ee4c49a73f760a75345702",
       "version_major": 2,
       "version_minor": 0
      },
      "text/plain": [
       "interactive(children=(Dropdown(description='Color', index=4, options=('inferno', 'gray_r', 'magma', 'Greens', …"
      ]
     },
     "metadata": {},
     "output_type": "display_data"
    }
   ],
   "source": [
    "%matplotlib inline\n",
    "quickview_ms2(stack, connected_data_f)"
   ]
  },
  {
   "cell_type": "markdown",
   "metadata": {},
   "source": [
    "OK, that's done. Took all day, but now I can play with fitting parameters for free. Definitely a better way to go. \n",
    "\n",
    "## Analyzing some data\n",
    "\n",
    "Onward and upward. First, I want to redo that with a proper nuclear mask."
   ]
  },
  {
   "cell_type": "code",
   "execution_count": 214,
   "metadata": {},
   "outputs": [
    {
     "name": "stdout",
     "output_type": "stream",
     "text": [
      "1\n",
      "2\n",
      "3\n",
      "4\n",
      "5\n",
      "6\n",
      "7\n",
      "8\n",
      "9\n",
      "10\n",
      "11\n",
      "12\n",
      "13\n",
      "14\n",
      "15\n",
      "16\n",
      "17\n",
      "18\n",
      "19\n"
     ]
    }
   ],
   "source": [
    "reload(imp)\n",
    "nucmask = imp.segment_nuclei4D(stack[1], imp.segment_nuclei3D_monolayer, imp.update_labels_withmemory, 5, sigma1=4, min_seed_dist=13, size_max=5000)"
   ]
  },
  {
   "cell_type": "code",
   "execution_count": 215,
   "metadata": {},
   "outputs": [],
   "source": [
    "connected_data = connect_ms2_frames(filtered_fits, nucmask)"
   ]
  },
  {
   "cell_type": "code",
   "execution_count": 216,
   "metadata": {},
   "outputs": [],
   "source": [
    "save_pickle(nucmask, '/Users/MStadler/Bioinformatics/Projects/Zelda/Quarantine_analysis/data/EVE_D11-14_nucmask.pkl')\n",
    "save_pickle(connected_data, '/Users/MStadler/Bioinformatics/Projects/Zelda/Quarantine_analysis/data/EVE_D11-14_spot_data.pkl')"
   ]
  },
  {
   "cell_type": "code",
   "execution_count": 238,
   "metadata": {},
   "outputs": [],
   "source": [
    "connected_data_f = filter_spot_duration(connected_data,3)"
   ]
  },
  {
   "cell_type": "code",
   "execution_count": 237,
   "metadata": {},
   "outputs": [
    {
     "data": {
      "text/plain": [
       "dict_keys([1, 2, 3, 4, 5, 6, 7, 8, 9, 10, 11, 12, 13, 14, 15, 16, 17, 18, 19, 20, 21, 22, 23, 24, 25, 26, 27, 28, 29, 30, 31, 32, 33, 34, 35, 36, 37, 38, 39, 40, 41, 42, 43, 44, 45, 46, 47, 48, 49, 50, 51, 52, 53, 54, 55, 56, 57, 58, 59, 60, 61, 62, 63, 64, 65, 66, 67, 68, 69, 70, 71, 72, 73, 74, 75, 76, 77, 78, 79, 80, 81, 82, 83, 84, 85, 86, 87, 88, 89, 90, 91, 92, 93, 94, 95, 96, 97, 98, 99, 100, 101, 102, 103, 104, 105, 106, 107, 108, 109, 110, 111, 112, 113, 114, 115, 116, 117, 118, 119, 120, 121, 122, 123, 124, 125, 126, 127, 128, 129, 130, 131, 132, 133, 134, 135, 136, 137, 138, 139, 140, 141, 142, 143, 144, 145, 146, 147, 148, 149, 150, 151, 152, 153, 154, 155, 156, 157, 158, 159, 160, 161, 162, 163, 164, 165, 166, 167, 168, 169, 170, 171, 172, 173, 174, 175, 176, 177, 178, 179, 180, 181, 182, 183, 184, 185])"
      ]
     },
     "execution_count": 237,
     "metadata": {},
     "output_type": "execute_result"
    }
   ],
   "source": [
    "connected_data_f.keys()"
   ]
  },
  {
   "cell_type": "code",
   "execution_count": 235,
   "metadata": {
    "scrolled": true
   },
   "outputs": [
    {
     "data": {
      "text/plain": [
       "array([[0.00000000e+00, 1.64000000e+02, 0.00000000e+00, 1.20000000e+02,\n",
       "        6.90000000e+02, 3.74369219e+04, 1.14096449e+00, 1.15324810e+00,\n",
       "        1.26676558e+00],\n",
       "       [1.00000000e+00, 1.64000000e+02, 0.00000000e+00, 1.20000000e+02,\n",
       "        6.93000000e+02, 3.90304223e+04, 1.09025262e+00, 1.10812968e+00,\n",
       "        1.15020604e+00],\n",
       "       [2.00000000e+00, 1.64000000e+02, 0.00000000e+00, 1.20000000e+02,\n",
       "        6.93000000e+02, 4.07994251e+04, 1.25105487e+00, 1.07249263e+00,\n",
       "        1.06507875e+00],\n",
       "       [3.00000000e+00, 1.64000000e+02, 0.00000000e+00, 1.23000000e+02,\n",
       "        6.93000000e+02, 9.55241374e+03, 4.73966800e+00, 2.48233281e+00,\n",
       "        2.57415171e+00],\n",
       "       [4.00000000e+00, 1.64000000e+02, 0.00000000e+00, 1.23000000e+02,\n",
       "        6.93000000e+02, 5.35754295e+03, 6.34697265e+00, 3.58465773e+00,\n",
       "        3.85402043e+00],\n",
       "       [5.00000000e+00, 1.64000000e+02, 0.00000000e+00, 1.23000000e+02,\n",
       "        6.93000000e+02, 3.91258064e+03, 7.54893511e+00, 4.55230901e+00,\n",
       "        4.80935526e+00],\n",
       "       [6.00000000e+00, 1.64000000e+02, 0.00000000e+00, 1.23000000e+02,\n",
       "        6.93000000e+02, 4.35812085e+03, 7.70032083e+00, 4.19560830e+00,\n",
       "        4.12498307e+00],\n",
       "       [7.00000000e+00, 1.64000000e+02, 0.00000000e+00, 1.24000000e+02,\n",
       "        6.93000000e+02, 3.94684911e+03, 9.00164784e+00, 4.62737279e+00,\n",
       "        4.40160622e+00],\n",
       "       [8.00000000e+00, 1.64000000e+02, 0.00000000e+00, 1.23000000e+02,\n",
       "        6.92000000e+02, 4.61890768e+03, 7.46525143e+00, 4.22182874e+00,\n",
       "        4.05408588e+00],\n",
       "       [9.00000000e+00, 1.64000000e+02, 0.00000000e+00, 1.24000000e+02,\n",
       "        6.92000000e+02, 8.83749182e+03, 4.66305088e+00, 2.67358703e+00,\n",
       "        2.76022911e+00],\n",
       "       [1.00000000e+01, 1.64000000e+02, 0.00000000e+00, 1.25000000e+02,\n",
       "        6.94000000e+02, 3.73839127e+04, 1.42211950e+00, 9.61335895e-01,\n",
       "        1.28473693e+00],\n",
       "       [1.10000000e+01, 1.64000000e+02, 0.00000000e+00, 1.24000000e+02,\n",
       "        6.93000000e+02, 4.40994782e+04, 1.45878336e+00, 1.05742846e+00,\n",
       "        1.09560368e+00],\n",
       "       [1.20000000e+01, 1.64000000e+02, 0.00000000e+00, 1.24000000e+02,\n",
       "        6.93000000e+02, 4.25427744e+04, 1.43900992e+00, 1.21032356e+00,\n",
       "        1.09882212e+00],\n",
       "       [1.30000000e+01, 1.64000000e+02, 0.00000000e+00, 1.24000000e+02,\n",
       "        6.96000000e+02, 3.68613052e+04, 1.59096268e+00, 1.24329153e+00,\n",
       "        1.28481528e+00],\n",
       "       [1.40000000e+01, 1.64000000e+02, 0.00000000e+00, 1.21000000e+02,\n",
       "        6.96000000e+02, 4.35896483e+04, 1.08357577e+00, 1.16075092e+00,\n",
       "        1.17688612e+00],\n",
       "       [1.50000000e+01, 1.64000000e+02, 0.00000000e+00, 1.20000000e+02,\n",
       "        6.97000000e+02, 4.22778112e+04, 1.25584906e+00, 1.21893417e+00,\n",
       "        1.10669477e+00],\n",
       "       [1.60000000e+01, 1.64000000e+02, 0.00000000e+00, 1.19000000e+02,\n",
       "        6.97000000e+02, 4.00357974e+04, 1.26155657e+00, 1.26047202e+00,\n",
       "        1.16965103e+00],\n",
       "       [1.70000000e+01, 1.64000000e+02, 0.00000000e+00, 1.16000000e+02,\n",
       "        7.01000000e+02, 3.97506037e+04, 1.37758025e+00, 1.03103044e+00,\n",
       "        1.54279078e+00],\n",
       "       [1.80000000e+01, 1.64000000e+02, 0.00000000e+00, 1.19000000e+02,\n",
       "        7.00000000e+02, 3.49894493e+04, 1.21149443e+00, 1.21582051e+00,\n",
       "        1.25343217e+00],\n",
       "       [1.90000000e+01, 1.64000000e+02, 0.00000000e+00, 1.19000000e+02,\n",
       "        7.00000000e+02, 2.98176566e+04, 1.42406077e+00, 1.59625141e+00,\n",
       "        1.25236553e+00]])"
      ]
     },
     "execution_count": 235,
     "metadata": {},
     "output_type": "execute_result"
    }
   ],
   "source": [
    "connected_data_f[21]"
   ]
  },
  {
   "cell_type": "code",
   "execution_count": 228,
   "metadata": {},
   "outputs": [
    {
     "data": {
      "application/vnd.jupyter.widget-view+json": {
       "model_id": "24b98a53af0743bbb7e0b2c296b2102e",
       "version_major": 2,
       "version_minor": 0
      },
      "text/plain": [
       "interactive(children=(Dropdown(description='Color', index=4, options=('inferno', 'gray_r', 'magma', 'Greens', …"
      ]
     },
     "metadata": {},
     "output_type": "display_data"
    }
   ],
   "source": [
    "viewer(nucmask, 'tzxy')"
   ]
  },
  {
   "cell_type": "code",
   "execution_count": 229,
   "metadata": {},
   "outputs": [],
   "source": [
    "ids, counts = np.unique(nucmask, return_counts=True)"
   ]
  },
  {
   "cell_type": "code",
   "execution_count": 232,
   "metadata": {
    "collapsed": true
   },
   "outputs": [
    {
     "data": {
      "text/plain": [
       "array([2.33597385e+06, 8.52705000e+03, 4.48140000e+03, 3.45450000e+03,\n",
       "       6.13305000e+03, 2.43495000e+03, 2.36565000e+03, 7.42140000e+03,\n",
       "       4.29765000e+03, 5.17440000e+03, 3.01770000e+03, 8.61105000e+03,\n",
       "       6.83760000e+03, 5.87685000e+03, 8.90400000e+03, 6.76515000e+03,\n",
       "       3.62250000e+03, 1.03950000e+02, 1.76925000e+03, 4.01835000e+03,\n",
       "       6.23490000e+03, 5.77605000e+03, 3.78735000e+03, 9.24525000e+03,\n",
       "       9.88155000e+03, 8.62470000e+03, 1.01902500e+04, 9.62430000e+03,\n",
       "       8.54490000e+03, 1.03362000e+04, 9.14655000e+03, 8.80425000e+03,\n",
       "       7.73745000e+03, 9.39330000e+03, 2.69430000e+03, 9.25365000e+03,\n",
       "       8.63835000e+03, 8.39055000e+03, 9.72090000e+03, 9.49935000e+03,\n",
       "       9.18750000e+03, 9.70305000e+03, 8.84205000e+03, 9.55815000e+03,\n",
       "       9.94455000e+03, 8.15745000e+03, 1.05199500e+04, 8.68980000e+03,\n",
       "       9.00585000e+03, 9.67890000e+03, 9.28725000e+03, 1.58655000e+03,\n",
       "       8.91030000e+03, 9.25365000e+03, 9.57495000e+03, 1.02186000e+04,\n",
       "       1.12350000e+04, 9.30090000e+03, 9.20535000e+03, 8.91870000e+03,\n",
       "       2.60295000e+03, 8.58900000e+02, 8.93445000e+03, 8.34120000e+03,\n",
       "       8.44410000e+03, 9.24315000e+03, 7.94010000e+03, 1.02249000e+04,\n",
       "       9.53505000e+03, 8.98380000e+03, 8.97015000e+03, 1.02889500e+04,\n",
       "       8.32440000e+03, 9.35655000e+03, 9.17595000e+03, 7.94430000e+03,\n",
       "       8.80215000e+03, 5.05155000e+03, 9.06465000e+03, 9.97290000e+03,\n",
       "       1.01041500e+04, 8.59110000e+03, 1.05294000e+04, 9.08985000e+03,\n",
       "       9.27150000e+03, 9.93195000e+03, 1.06680000e+04, 9.82170000e+03,\n",
       "       8.80110000e+03, 8.54280000e+03, 9.80910000e+03, 9.19065000e+03,\n",
       "       9.67890000e+03, 9.69360000e+03, 9.31560000e+03, 9.59070000e+03,\n",
       "       8.25615000e+03, 5.27205000e+03, 8.93655000e+03, 8.00730000e+03,\n",
       "       9.01740000e+03, 9.91725000e+03, 8.46825000e+03, 8.92185000e+03,\n",
       "       8.06400000e+03, 1.06554000e+04, 9.86580000e+03, 8.48715000e+03,\n",
       "       1.06102500e+04, 3.17310000e+03, 9.89100000e+03, 9.30090000e+03,\n",
       "       8.03355000e+03, 9.46050000e+03, 9.37335000e+03, 1.09315500e+04,\n",
       "       9.78600000e+03, 9.28305000e+03, 9.64215000e+03, 9.26205000e+03,\n",
       "       9.23160000e+03, 1.00590000e+04, 1.01472000e+04, 1.03173000e+04,\n",
       "       9.11715000e+03, 1.03414500e+04, 1.03509000e+04, 9.95715000e+03,\n",
       "       8.69505000e+03, 9.67365000e+03, 8.39895000e+03, 8.92500000e+03,\n",
       "       9.39855000e+03, 9.04890000e+03, 8.68350000e+03, 1.29570000e+03,\n",
       "       1.18419000e+04, 9.96030000e+03, 1.01587500e+04, 9.51300000e+03,\n",
       "       9.42795000e+03, 9.30930000e+03, 1.02648000e+04, 9.11190000e+03,\n",
       "       8.90190000e+03, 9.11820000e+03, 8.28240000e+03, 9.98550000e+03,\n",
       "       9.78285000e+03, 9.64425000e+03, 9.88365000e+03, 9.77130000e+03,\n",
       "       8.93655000e+03, 9.46050000e+03, 8.57115000e+03, 8.42520000e+03,\n",
       "       1.08958500e+04, 1.01283000e+04, 8.71080000e+03, 1.07520000e+04,\n",
       "       9.43215000e+03, 9.58440000e+03, 9.55500000e+03, 9.46785000e+03,\n",
       "       9.13080000e+03, 8.54175000e+03, 5.36340000e+03, 9.42375000e+03,\n",
       "       9.53085000e+03, 1.81335000e+03, 9.10035000e+03, 9.96555000e+03,\n",
       "       9.72615000e+03, 8.99430000e+03, 1.04601000e+04, 9.90465000e+03,\n",
       "       9.78075000e+03, 9.31350000e+03, 1.01493000e+04, 9.13290000e+03,\n",
       "       1.06176000e+04, 1.05630000e+04, 9.71145000e+03, 1.21096500e+04,\n",
       "       9.00060000e+03, 1.04695500e+04, 9.88155000e+03, 9.97395000e+03,\n",
       "       9.33240000e+03, 1.10103000e+04, 1.00338000e+04, 9.83430000e+03,\n",
       "       9.39015000e+03, 9.90570000e+03, 1.06879500e+04, 9.53400000e+03,\n",
       "       9.56550000e+03, 8.73600000e+03, 1.02805500e+04, 1.06795500e+04,\n",
       "       9.29670000e+03, 1.01850000e+02, 1.05525000e+04, 1.07698500e+04,\n",
       "       9.54345000e+03, 9.07095000e+03, 9.54975000e+03, 9.31140000e+03,\n",
       "       7.30485000e+03, 1.05052500e+04, 7.79730000e+03, 9.94140000e+03,\n",
       "       9.10140000e+03, 9.44265000e+03, 9.74085000e+03, 9.83010000e+03,\n",
       "       1.10964000e+04, 1.07047500e+04, 9.20010000e+03, 8.93340000e+03,\n",
       "       8.58165000e+03, 9.20955000e+03, 9.37335000e+03, 1.03551000e+04,\n",
       "       9.54135000e+03, 1.02501000e+04, 9.17805000e+03, 9.37650000e+03,\n",
       "       1.04065500e+04, 9.63165000e+03, 8.07555000e+03, 8.50710000e+03,\n",
       "       9.67890000e+03, 8.35065000e+03, 1.08622500e+04, 1.05388500e+04,\n",
       "       1.02448500e+04, 9.26415000e+03, 1.01241000e+04, 1.17453000e+04,\n",
       "       1.01461500e+04, 9.21690000e+03, 1.05493500e+04, 8.77695000e+03,\n",
       "       1.08066000e+04, 9.49935000e+03, 9.00480000e+03, 8.66565000e+03,\n",
       "       6.24960000e+03, 8.44200000e+03, 8.67300000e+03, 9.39750000e+03,\n",
       "       8.70555000e+03, 1.13851500e+04, 9.63795000e+03, 9.51615000e+03,\n",
       "       8.97855000e+03, 8.24985000e+03, 1.06522500e+04, 8.80215000e+03,\n",
       "       9.22320000e+03, 1.03477500e+04, 9.32610000e+03, 1.03194000e+04,\n",
       "       8.85045000e+03, 8.14800000e+03, 9.84375000e+03, 8.87775000e+03,\n",
       "       9.92880000e+03, 9.38910000e+03, 1.05577500e+04, 1.01388000e+04,\n",
       "       9.85320000e+03, 1.04548500e+04, 8.83470000e+03, 9.36075000e+03,\n",
       "       9.01950000e+03, 1.04412000e+04, 1.13127000e+04, 8.50290000e+03,\n",
       "       6.79770000e+03, 9.61800000e+03, 9.68100000e+03, 9.33030000e+03,\n",
       "       9.36705000e+03, 8.85570000e+03, 9.75975000e+03, 1.00663500e+04,\n",
       "       9.21165000e+03, 4.39320000e+03, 8.39790000e+03, 9.32190000e+03,\n",
       "       1.02490500e+04, 8.93865000e+03, 9.99915000e+03, 9.84585000e+03,\n",
       "       9.71040000e+03, 8.45775000e+03, 1.07604000e+04, 9.15600000e+03,\n",
       "       8.86935000e+03, 9.15810000e+03, 9.10665000e+03, 1.00674000e+04,\n",
       "       9.63585000e+03, 1.12098000e+04, 8.91975000e+03, 9.44685000e+03,\n",
       "       1.00600500e+04, 9.34920000e+03, 8.79795000e+03, 8.45880000e+03,\n",
       "       9.87525000e+03, 9.79650000e+03, 9.93510000e+03, 1.01094000e+04,\n",
       "       9.84795000e+03, 9.92355000e+03, 9.05100000e+03, 9.43320000e+03,\n",
       "       7.83300000e+03, 1.06018500e+04, 1.00096500e+04, 9.43425000e+03,\n",
       "       9.93405000e+03, 9.75870000e+03, 5.89575000e+03, 1.02952500e+04,\n",
       "       1.09557000e+04, 8.94390000e+03, 9.37860000e+03, 9.60225000e+03,\n",
       "       9.72720000e+03, 1.04118000e+04, 9.27885000e+03, 4.23255000e+03,\n",
       "       8.78955000e+03, 8.49765000e+03, 6.61815000e+03, 8.78430000e+03,\n",
       "       8.20680000e+03, 6.92475000e+03, 4.29240000e+03, 6.57300000e+03,\n",
       "       6.31260000e+03, 5.00010000e+03, 6.48375000e+03, 5.06415000e+03,\n",
       "       4.79010000e+03, 4.21260000e+03, 2.61450000e+02, 8.79900000e+02,\n",
       "       6.05430000e+03, 1.13610000e+03, 1.54980000e+03, 4.43835000e+03,\n",
       "       1.08150000e+02, 3.66450000e+02, 9.32400000e+02, 3.26445000e+03,\n",
       "       2.45070000e+03, 5.52930000e+03, 1.43745000e+03, 4.21785000e+03,\n",
       "       2.42340000e+03, 8.22360000e+03, 1.01850000e+02, 2.49060000e+03,\n",
       "       4.37430000e+03, 1.22010000e+03, 7.38150000e+02, 1.69050000e+03,\n",
       "       2.71845000e+03, 2.94000000e+02, 4.09395000e+03, 2.43600000e+02,\n",
       "       2.84655000e+03, 5.52615000e+03, 8.09550000e+02, 9.15600000e+02,\n",
       "       8.51550000e+02, 6.05850000e+02, 7.80150000e+02, 2.54100000e+02,\n",
       "       3.15000000e+02, 7.32900000e+02, 3.13950000e+03, 1.29150000e+02,\n",
       "       3.97950000e+02, 4.11600000e+02, 6.66750000e+02, 1.35240000e+03,\n",
       "       3.78000000e+01, 2.36250000e+02, 8.28450000e+02, 2.13150000e+02,\n",
       "       1.30200000e+02, 6.09000000e+02, 8.10600000e+02, 4.17900000e+02,\n",
       "       1.84800000e+02, 2.52000000e+01])"
      ]
     },
     "execution_count": 232,
     "metadata": {},
     "output_type": "execute_result"
    }
   ],
   "source": [
    "counts / 20"
   ]
  },
  {
   "cell_type": "markdown",
   "metadata": {},
   "source": [
    "## Revising nuclear segmentation\n",
    "\n",
    "One of the challenges of working with confocal data is the refocusing breaks. Connecting spots and nuclei across these breaks will take some work. For nuclei, I want to re-work my routine slightly to make it into four functions:\n",
    "\n",
    "1. Segment 3D stacks (already written)\n",
    "2. Take a 3D segmenetation function and build an unconnected 4D labelmask.\n",
    "2. update_labels to connect labels two 3D stacks (update_labels — already exists)\n",
    "3. A function to connect labels in an unconnected 4D stack (based on update_labels_withmemory).\n",
    "\n",
    "Should be a straightforward reworking, requiring only two new functions and only minor reworking of those. User would only have to call two functions (or one wrapper)."
   ]
  },
  {
   "cell_type": "code",
   "execution_count": 241,
   "metadata": {},
   "outputs": [],
   "source": [
    "test = stack[1,0:2,:,0:200,0:200]"
   ]
  },
  {
   "cell_type": "code",
   "execution_count": 399,
   "metadata": {
    "collapsed": true
   },
   "outputs": [
    {
     "ename": "KeyboardInterrupt",
     "evalue": "",
     "output_type": "error",
     "traceback": [
      "\u001b[0;31m---------------------------------------------------------------------------\u001b[0m",
      "\u001b[0;31mKeyboardInterrupt\u001b[0m                         Traceback (most recent call last)",
      "\u001b[0;32m<ipython-input-399-ea944634957a>\u001b[0m in \u001b[0;36m<module>\u001b[0;34m\u001b[0m\n\u001b[1;32m     34\u001b[0m \u001b[0;34m\u001b[0m\u001b[0m\n\u001b[1;32m     35\u001b[0m \u001b[0;34m\u001b[0m\u001b[0m\n\u001b[0;32m---> 36\u001b[0;31m \u001b[0ma\u001b[0m\u001b[0;34m=\u001b[0m\u001b[0mstack_segment_nuclei_stack\u001b[0m\u001b[0;34m(\u001b[0m\u001b[0mtest\u001b[0m\u001b[0;34m,\u001b[0m \u001b[0mimp\u001b[0m\u001b[0;34m.\u001b[0m\u001b[0msegment_nuclei3D_monolayer\u001b[0m\u001b[0;34m,\u001b[0m \u001b[0msigma1\u001b[0m\u001b[0;34m=\u001b[0m\u001b[0;36m4\u001b[0m\u001b[0;34m,\u001b[0m \u001b[0mmin_seed_dist\u001b[0m\u001b[0;34m=\u001b[0m\u001b[0;36m13\u001b[0m\u001b[0;34m,\u001b[0m \u001b[0msize_max\u001b[0m\u001b[0;34m=\u001b[0m\u001b[0;36m5000\u001b[0m\u001b[0;34m)\u001b[0m\u001b[0;34m\u001b[0m\u001b[0;34m\u001b[0m\u001b[0m\n\u001b[0m",
      "\u001b[0;32m<ipython-input-253-1049a80d6f33>\u001b[0m in \u001b[0;36mstack_segment_nuclei_stack\u001b[0;34m(stack, seg_func, **kwargs)\u001b[0m\n\u001b[1;32m      3\u001b[0m     \u001b[0mlabelmask\u001b[0m \u001b[0;34m=\u001b[0m \u001b[0mnp\u001b[0m\u001b[0;34m.\u001b[0m\u001b[0marray\u001b[0m\u001b[0;34m(\u001b[0m\u001b[0;34m[\u001b[0m\u001b[0mframe0\u001b[0m\u001b[0;34m]\u001b[0m\u001b[0;34m)\u001b[0m\u001b[0;34m\u001b[0m\u001b[0;34m\u001b[0m\u001b[0m\n\u001b[1;32m      4\u001b[0m     \u001b[0;32mfor\u001b[0m \u001b[0mn\u001b[0m \u001b[0;32min\u001b[0m \u001b[0mrange\u001b[0m\u001b[0;34m(\u001b[0m\u001b[0;36m1\u001b[0m\u001b[0;34m,\u001b[0m \u001b[0mstack\u001b[0m\u001b[0;34m.\u001b[0m\u001b[0mshape\u001b[0m\u001b[0;34m[\u001b[0m\u001b[0;36m0\u001b[0m\u001b[0;34m]\u001b[0m\u001b[0;34m)\u001b[0m\u001b[0;34m:\u001b[0m\u001b[0;34m\u001b[0m\u001b[0;34m\u001b[0m\u001b[0m\n\u001b[0;32m----> 5\u001b[0;31m         \u001b[0mframe\u001b[0m \u001b[0;34m=\u001b[0m \u001b[0mseg_func\u001b[0m\u001b[0;34m(\u001b[0m\u001b[0mstack\u001b[0m\u001b[0;34m[\u001b[0m\u001b[0mn\u001b[0m\u001b[0;34m]\u001b[0m\u001b[0;34m,\u001b[0m \u001b[0;34m**\u001b[0m\u001b[0mkwargs\u001b[0m\u001b[0;34m)\u001b[0m\u001b[0;34m\u001b[0m\u001b[0;34m\u001b[0m\u001b[0m\n\u001b[0m\u001b[1;32m      6\u001b[0m         \u001b[0mlabelmask\u001b[0m \u001b[0;34m=\u001b[0m \u001b[0mnp\u001b[0m\u001b[0;34m.\u001b[0m\u001b[0mvstack\u001b[0m\u001b[0;34m(\u001b[0m\u001b[0;34m(\u001b[0m\u001b[0mlabelmask\u001b[0m\u001b[0;34m,\u001b[0m \u001b[0;34m[\u001b[0m\u001b[0mframe\u001b[0m\u001b[0;34m]\u001b[0m\u001b[0;34m)\u001b[0m\u001b[0;34m)\u001b[0m\u001b[0;34m\u001b[0m\u001b[0;34m\u001b[0m\u001b[0m\n\u001b[1;32m      7\u001b[0m \u001b[0;34m\u001b[0m\u001b[0m\n",
      "\u001b[0;32m~/Bioinformatics/Projects/Zelda/Quarantine_analysis/bin/imagep.py\u001b[0m in \u001b[0;36msegment_nuclei3D_monolayer\u001b[0;34m(stack, sigma1, sigma_dog_big, sigma_dog_small, seed_window, min_seed_dist, dilation_length, size_min, size_max, display)\u001b[0m\n\u001b[1;32m   1288\u001b[0m     \u001b[0;31m# Perform distance transform, find local maxima for watershed seeds.\u001b[0m\u001b[0;34m\u001b[0m\u001b[0;34m\u001b[0m\u001b[0;34m\u001b[0m\u001b[0m\n\u001b[1;32m   1289\u001b[0m     \u001b[0mdist\u001b[0m \u001b[0;34m=\u001b[0m \u001b[0mndi\u001b[0m\u001b[0;34m.\u001b[0m\u001b[0mdistance_transform_edt\u001b[0m\u001b[0;34m(\u001b[0m\u001b[0mmask\u001b[0m\u001b[0;34m)\u001b[0m\u001b[0;34m\u001b[0m\u001b[0;34m\u001b[0m\u001b[0m\n\u001b[0;32m-> 1290\u001b[0;31m     \u001b[0mseeds\u001b[0m\u001b[0;34m,\u001b[0m \u001b[0m_\u001b[0m \u001b[0;34m=\u001b[0m \u001b[0mpeak_local_max_nD\u001b[0m\u001b[0;34m(\u001b[0m\u001b[0mdist\u001b[0m\u001b[0;34m,\u001b[0m \u001b[0msize\u001b[0m\u001b[0;34m=\u001b[0m\u001b[0mseed_window\u001b[0m\u001b[0;34m,\u001b[0m \u001b[0mmin_dist\u001b[0m\u001b[0;34m=\u001b[0m\u001b[0mmin_seed_dist\u001b[0m\u001b[0;34m)\u001b[0m\u001b[0;34m\u001b[0m\u001b[0;34m\u001b[0m\u001b[0m\n\u001b[0m\u001b[1;32m   1291\u001b[0m     \u001b[0;31m# Smooth image and take gradient, use as input for watershed.\u001b[0m\u001b[0;34m\u001b[0m\u001b[0;34m\u001b[0m\u001b[0;34m\u001b[0m\u001b[0m\n\u001b[1;32m   1292\u001b[0m     \u001b[0mim_smooth\u001b[0m \u001b[0;34m=\u001b[0m \u001b[0mndi\u001b[0m\u001b[0;34m.\u001b[0m\u001b[0mfilters\u001b[0m\u001b[0;34m.\u001b[0m\u001b[0mgaussian_filter\u001b[0m\u001b[0;34m(\u001b[0m\u001b[0mmaxp\u001b[0m\u001b[0;34m,\u001b[0m \u001b[0msigma\u001b[0m\u001b[0;34m=\u001b[0m\u001b[0msigma1\u001b[0m\u001b[0;34m)\u001b[0m\u001b[0;34m\u001b[0m\u001b[0;34m\u001b[0m\u001b[0m\n",
      "\u001b[0;32m~/Bioinformatics/Projects/Zelda/Quarantine_analysis/bin/imagep.py\u001b[0m in \u001b[0;36mpeak_local_max_nD\u001b[0;34m(img, size, min_dist)\u001b[0m\n\u001b[1;32m    195\u001b[0m         \u001b[0;31m# If there is no already-added seed within the minimum distance,\u001b[0m\u001b[0;34m\u001b[0m\u001b[0;34m\u001b[0m\u001b[0;34m\u001b[0m\u001b[0m\n\u001b[1;32m    196\u001b[0m         \u001b[0;31m# add this seed to the mask and list.\u001b[0m\u001b[0;34m\u001b[0m\u001b[0;34m\u001b[0m\u001b[0;34m\u001b[0m\u001b[0m\n\u001b[0;32m--> 197\u001b[0;31m         \u001b[0;32mif\u001b[0m \u001b[0;34m(\u001b[0m\u001b[0;32mnot\u001b[0m \u001b[0mhas_neighbor\u001b[0m\u001b[0;34m(\u001b[0m\u001b[0mcentroid\u001b[0m\u001b[0;34m,\u001b[0m \u001b[0mlocal_peaks\u001b[0m\u001b[0;34m,\u001b[0m \u001b[0mmin_dist\u001b[0m\u001b[0;34m)\u001b[0m\u001b[0;34m)\u001b[0m\u001b[0;34m:\u001b[0m\u001b[0;34m\u001b[0m\u001b[0;34m\u001b[0m\u001b[0m\n\u001b[0m\u001b[1;32m    198\u001b[0m             \u001b[0mlocal_peak_mask\u001b[0m\u001b[0;34m[\u001b[0m\u001b[0mcentroid\u001b[0m\u001b[0;34m]\u001b[0m \u001b[0;34m=\u001b[0m \u001b[0mpeak_num\u001b[0m\u001b[0;34m\u001b[0m\u001b[0;34m\u001b[0m\u001b[0m\n\u001b[1;32m    199\u001b[0m             \u001b[0mlocal_peaks\u001b[0m\u001b[0;34m.\u001b[0m\u001b[0mappend\u001b[0m\u001b[0;34m(\u001b[0m\u001b[0mcentroid\u001b[0m\u001b[0;34m)\u001b[0m\u001b[0;34m\u001b[0m\u001b[0;34m\u001b[0m\u001b[0m\n",
      "\u001b[0;32m~/Bioinformatics/Projects/Zelda/Quarantine_analysis/bin/imagep.py\u001b[0m in \u001b[0;36mhas_neighbor\u001b[0;34m(peak, peak_list, min_dist)\u001b[0m\n\u001b[1;32m    179\u001b[0m         \u001b[0;34m\"\"\"Find whether a peak already exists within minimum distance of this peak\"\"\"\u001b[0m\u001b[0;34m\u001b[0m\u001b[0;34m\u001b[0m\u001b[0m\n\u001b[1;32m    180\u001b[0m         \u001b[0;32mfor\u001b[0m \u001b[0mtestpeak\u001b[0m \u001b[0;32min\u001b[0m \u001b[0mpeak_list\u001b[0m\u001b[0;34m:\u001b[0m\u001b[0;34m\u001b[0m\u001b[0;34m\u001b[0m\u001b[0m\n\u001b[0;32m--> 181\u001b[0;31m             \u001b[0;32mif\u001b[0m \u001b[0;34m(\u001b[0m\u001b[0mdistance\u001b[0m\u001b[0;34m.\u001b[0m\u001b[0meuclidean\u001b[0m\u001b[0;34m(\u001b[0m\u001b[0mpeak\u001b[0m\u001b[0;34m,\u001b[0m \u001b[0mtestpeak\u001b[0m\u001b[0;34m)\u001b[0m \u001b[0;34m<\u001b[0m \u001b[0mmin_dist\u001b[0m\u001b[0;34m)\u001b[0m\u001b[0;34m:\u001b[0m\u001b[0;34m\u001b[0m\u001b[0;34m\u001b[0m\u001b[0m\n\u001b[0m\u001b[1;32m    182\u001b[0m                 \u001b[0;32mreturn\u001b[0m \u001b[0;32mTrue\u001b[0m\u001b[0;34m\u001b[0m\u001b[0;34m\u001b[0m\u001b[0m\n\u001b[1;32m    183\u001b[0m         \u001b[0;32mreturn\u001b[0m \u001b[0;32mFalse\u001b[0m\u001b[0;34m\u001b[0m\u001b[0;34m\u001b[0m\u001b[0m\n",
      "\u001b[0;32m~/opt/anaconda3/envs/image_analysis1/lib/python3.8/site-packages/scipy/spatial/distance.py\u001b[0m in \u001b[0;36meuclidean\u001b[0;34m(u, v, w)\u001b[0m\n\u001b[1;32m    618\u001b[0m \u001b[0;34m\u001b[0m\u001b[0m\n\u001b[1;32m    619\u001b[0m     \"\"\"\n\u001b[0;32m--> 620\u001b[0;31m     \u001b[0;32mreturn\u001b[0m \u001b[0mminkowski\u001b[0m\u001b[0;34m(\u001b[0m\u001b[0mu\u001b[0m\u001b[0;34m,\u001b[0m \u001b[0mv\u001b[0m\u001b[0;34m,\u001b[0m \u001b[0mp\u001b[0m\u001b[0;34m=\u001b[0m\u001b[0;36m2\u001b[0m\u001b[0;34m,\u001b[0m \u001b[0mw\u001b[0m\u001b[0;34m=\u001b[0m\u001b[0mw\u001b[0m\u001b[0;34m)\u001b[0m\u001b[0;34m\u001b[0m\u001b[0;34m\u001b[0m\u001b[0m\n\u001b[0m\u001b[1;32m    621\u001b[0m \u001b[0;34m\u001b[0m\u001b[0m\n\u001b[1;32m    622\u001b[0m \u001b[0;34m\u001b[0m\u001b[0m\n",
      "\u001b[0;31mKeyboardInterrupt\u001b[0m: "
     ]
    }
   ],
   "source": [
    "############################################################################\n",
    "\n",
    "def segment_nuclei_4dstack(stack, seg_func, **kwargs):\n",
    "    \"\"\"Perform segmentation on a time-series of 3D stacks\n",
    "    \n",
    "    Accepts a function that performs nuclear segmentation on a 3D image stack, \n",
    "    calls this function on each frame of a 4D image stack, and returns a 4D \n",
    "    nuclear mask. Individual time frames are independently segmented and\n",
    "    labels are not connected between them.\n",
    "    \n",
    "    Args:\n",
    "        stack: ndarray\n",
    "            4D image stack [t,z,x,y]\n",
    "        seg_func: function\n",
    "            A function that performs segmentation on a 3D image stack\n",
    "        **kwargs: key-word arguments\n",
    "            Arguments to supply to segmentation function\n",
    "    \n",
    "    Returns:\n",
    "        labelmask: ndarray\n",
    "            Mask in the shape of input stack with nuclei independently\n",
    "            segmented at each time point.\n",
    "    \"\"\"\n",
    "    # Segment first frame, initialize 4D labelmask.\n",
    "    frame0 = seg_func(stack[0], **kwargs)\n",
    "    labelmask = np.array([frame0])\n",
    "    # Segment subsequent frames, stack results together.\n",
    "    for n in range(1, stack.shape[0]):\n",
    "        print(n)\n",
    "        frame = seg_func(stack[n], **kwargs)\n",
    "        labelmask = np.vstack((labelmask, [frame]))\n",
    "    \n",
    "    return labelmask\n",
    "        \n",
    "        \n",
    "a=stack_segment_nuclei_stack(test, imp.segment_nuclei3D_monolayer, sigma1=4, min_seed_dist=13, size_max=5000)"
   ]
  },
  {
   "cell_type": "code",
   "execution_count": 254,
   "metadata": {
    "collapsed": true
   },
   "outputs": [
    {
     "data": {
      "application/vnd.jupyter.widget-view+json": {
       "model_id": "75a766d90f334f40abe65de478ff6caa",
       "version_major": 2,
       "version_minor": 0
      },
      "text/plain": [
       "interactive(children=(Dropdown(description='Color', index=4, options=('inferno', 'gray_r', 'magma', 'Greens', …"
      ]
     },
     "metadata": {},
     "output_type": "display_data"
    }
   ],
   "source": [
    "viewer(a,'tzxy')"
   ]
  },
  {
   "cell_type": "code",
   "execution_count": 396,
   "metadata": {},
   "outputs": [],
   "source": [
    "reload(imp)\n",
    "from imagep import update_labels\n",
    "def connect_nuclei(maskstack, max_frames_skipped=2, \n",
    "                             update_func=update_labels):\n",
    "    \"\"\"Match labels in a labelmask to masks from previous frames\n",
    "    \n",
    "    Takes a stack of nuclear masks, for each frame, walk backward in time \n",
    "    looking for segmented nuclei in previous frames that correspond to \n",
    "    nuclei in the new frame. Default is to use update_labels function to \n",
    "    do comparison of two masks, but this can be changed. Nuclei in a frame\n",
    "    that cannot be matched to previous nucleus are kept and initialized \n",
    "    with new labels (change from previous behavior).\n",
    "    \n",
    "    Note: Written with adding 3d masks to 4d stacks, but works for 3d-\n",
    "    2d.\n",
    "    \n",
    "    Args:\n",
    "        maskstack:\n",
    "            4D labelmask [t,z,x,y] of segmented nuclei, labels not connected\n",
    "            between time frames (mask at each time generated independently).\n",
    "        max_frames_skipped: int\n",
    "            Maximum number of frames that can be \"skipped\" to find a nucleus\n",
    "            to connect to. Compensates for errors in segmentation that cause\n",
    "            nuclei to sometimes drop from frames. e.g., for a value of 1, \n",
    "            function will search for a connected nucleus in the last frame \n",
    "            and, if unsuccessful, in the second-to-last frame.\n",
    "        update_func: function\n",
    "            Function that takes two label masks, updates labels in the second\n",
    "            based on matches in the first. Default is to use update_labels.\n",
    "    \n",
    "    Returns:\n",
    "        connected_mask: ndarray\n",
    "            4D labelmask of same shape as maskstack with object labels connected\n",
    "            between frames. \n",
    "    \"\"\"\n",
    "    # Initialize blank mask.\n",
    "    connected_mask = np.zeros_like(maskstack)\n",
    "    # Add first frame.\n",
    "    connected_mask[0] = maskstack[0]\n",
    "    # Walk through subsequent frames, connecting them to previous frames.\n",
    "    for n in range(1, maskstack.shape[0]):\n",
    "        print('frame ' + str(n))\n",
    "        newmask = maskstack[n]\n",
    "        # Step sequentially backwards through frames, bound by max skip.\n",
    "        for i in range(n-1, n-2-max_frames_skipped, -1):\n",
    "            # Make sure the frame exists.\n",
    "            if (i >= 0):\n",
    "                print(i)\n",
    "                # Make updated mask with connections to earlier frame.\n",
    "                mask_updated_thisframe = update_func(connected_mask[i], newmask)\n",
    "                # Only update objects that are connected in this frame but were NOT\n",
    "                # connected to a more recent frame. Do this by restricting updates\n",
    "                # to positions in connected_mask that are currently 0. Positions that\n",
    "                # are either non-zero in the current connected_mask or 0 in both are\n",
    "                # kept the same. Only pixels that are non-zero in new update and 0\n",
    "                # in current mask are changed (to the labels from the current frame).\n",
    "                connected_mask[n] = np.where((connected_mask[n] == 0) & (mask_updated_thisframe != 0),\n",
    "                    mask_updated_thisframe, connected_mask[n])\n",
    "                #connected_mask[n] = mask_updated_thisframe\n",
    "        # Initialize un-matched nuclei with new labels.\n",
    "        unmatched = newmask[(newmask != 0) & (connected_mask[n] == 0)]\n",
    "        unmatched_labels = np.unique(unmatched)\n",
    "        for orphan in unmatched_labels:\n",
    "            new_label = connected_mask.max() + 1\n",
    "            connected_mask[n][newmask == orphan] = new_label\n",
    "            \n",
    "    return connected_mask"
   ]
  },
  {
   "cell_type": "code",
   "execution_count": 392,
   "metadata": {},
   "outputs": [],
   "source": [
    "a1 = test[0]\n",
    "a2 = test[1]\n",
    "unmatched = a2[(a2 != 0) & (a1 == 0)]"
   ]
  },
  {
   "cell_type": "code",
   "execution_count": 395,
   "metadata": {},
   "outputs": [
    {
     "data": {
      "text/plain": [
       "array([  1,   2,   3,   4,   5,   6,   7,   8,   9,  10,  11,  12,  13,\n",
       "        14,  15,  16,  17,  18,  19,  20,  21,  22,  23,  24,  25,  26,\n",
       "        27,  28,  29,  30,  31,  32,  33,  34,  35,  36,  37,  38,  39,\n",
       "        40,  41,  42,  43,  44,  45,  46,  47,  48,  49,  50,  51,  52,\n",
       "        53,  54,  55,  56,  57,  58,  60,  61,  62,  63,  64,  65,  66,\n",
       "        67,  68,  69,  70,  71,  72,  73,  74,  75,  76,  77,  78,  79,\n",
       "        80,  81,  82,  83,  84,  85,  86,  87,  88,  89,  90,  91,  92,\n",
       "        93,  94,  95,  96,  97,  98,  99, 100, 101, 102, 103, 104, 105,\n",
       "       106, 107, 108, 109, 110, 111, 112, 113, 114, 115, 116, 117, 118,\n",
       "       119, 120, 121, 122, 123, 124, 125, 126, 127, 128, 129, 130, 131,\n",
       "       132, 133, 134, 135, 136, 137, 138, 139, 140, 141, 142, 143, 144,\n",
       "       145, 146, 147, 148, 149, 150, 151, 152, 153, 154, 155, 156, 157,\n",
       "       158, 159, 160, 161, 162, 163, 164, 165, 166, 167, 168, 169, 170,\n",
       "       171, 173, 174, 175, 176, 177, 178, 179, 180, 181, 182, 183, 184,\n",
       "       185, 186, 187, 188, 189, 190, 191, 192, 193, 194, 195, 196, 197,\n",
       "       198, 199, 200, 201, 202, 203, 204, 205, 206, 207, 208, 209, 210,\n",
       "       211, 212, 213, 214, 215, 216, 217, 218, 219, 220, 221, 222, 223,\n",
       "       224, 225, 226, 227, 228, 229, 230, 231, 233, 234, 235, 236, 237,\n",
       "       238, 239, 240, 241, 242, 243, 244, 245, 246, 247, 248, 249, 250,\n",
       "       251, 252, 254, 255, 256, 257, 258, 259, 260, 261, 262, 263, 264,\n",
       "       265, 266, 267, 268, 269, 270, 271, 272, 273, 274, 275, 276, 277,\n",
       "       278, 279, 280, 281, 282, 283, 284, 285, 286, 287, 288, 289, 290,\n",
       "       291, 292, 293, 294, 295, 296, 297, 298, 299, 300, 301, 302, 303,\n",
       "       304, 305, 306, 308, 309, 310, 311, 312, 313, 314, 315, 316, 317,\n",
       "       318, 319, 320, 321, 322, 323, 324, 325, 326, 327, 328, 329, 330,\n",
       "       331, 332, 333, 334, 335, 336, 337, 338, 339, 340, 341, 342, 343,\n",
       "       344, 345, 346, 347, 348, 349, 350, 351, 352, 353, 354, 355, 356,\n",
       "       357, 358, 359], dtype=int32)"
      ]
     },
     "execution_count": 395,
     "metadata": {},
     "output_type": "execute_result"
    }
   ],
   "source": [
    "np.unique(unmatched)"
   ]
  },
  {
   "cell_type": "code",
   "execution_count": 394,
   "metadata": {},
   "outputs": [
    {
     "data": {
      "application/vnd.jupyter.widget-view+json": {
       "model_id": "86a29feea72f4b8db9f52e434c8d8765",
       "version_major": 2,
       "version_minor": 0
      },
      "text/plain": [
       "interactive(children=(Dropdown(description='Color', index=4, options=('inferno', 'gray_r', 'magma', 'Greens', …"
      ]
     },
     "metadata": {},
     "output_type": "display_data"
    }
   ],
   "source": [
    "viewer([a1,a2],'zxy')"
   ]
  },
  {
   "cell_type": "code",
   "execution_count": 269,
   "metadata": {},
   "outputs": [
    {
     "data": {
      "application/vnd.jupyter.widget-view+json": {
       "model_id": "dec3fb389362497494d1a42f8346b15d",
       "version_major": 2,
       "version_minor": 0
      },
      "text/plain": [
       "interactive(children=(Dropdown(description='Color', index=4, options=('inferno', 'gray_r', 'magma', 'Greens', …"
      ]
     },
     "metadata": {},
     "output_type": "display_data"
    }
   ],
   "source": [
    "viewer(b,'tzxy')"
   ]
  },
  {
   "cell_type": "code",
   "execution_count": 270,
   "metadata": {},
   "outputs": [],
   "source": [
    "nmask = stack_segment_nuclei_4dstack(stack[1], imp.segment_nuclei3D_monolayer, sigma1=4, min_seed_dist=13, size_max=5000)"
   ]
  },
  {
   "cell_type": "code",
   "execution_count": 284,
   "metadata": {},
   "outputs": [
    {
     "name": "stdout",
     "output_type": "stream",
     "text": [
      "1\n",
      "2\n",
      "3\n",
      "4\n",
      "5\n",
      "6\n",
      "7\n",
      "8\n",
      "9\n",
      "10\n",
      "11\n",
      "12\n",
      "13\n",
      "14\n",
      "15\n",
      "16\n",
      "17\n",
      "18\n",
      "19\n"
     ]
    }
   ],
   "source": [
    "nmask_c = connect_nuclei(nmask, 2)"
   ]
  },
  {
   "cell_type": "code",
   "execution_count": 286,
   "metadata": {},
   "outputs": [
    {
     "data": {
      "application/vnd.jupyter.widget-view+json": {
       "model_id": "b007284a380c45e4b0752a8b2928524b",
       "version_major": 2,
       "version_minor": 0
      },
      "text/plain": [
       "interactive(children=(Dropdown(description='Color', index=4, options=('inferno', 'gray_r', 'magma', 'Greens', …"
      ]
     },
     "metadata": {},
     "output_type": "display_data"
    }
   ],
   "source": [
    "viewer(nmask_c,'tzxy',12)"
   ]
  },
  {
   "cell_type": "code",
   "execution_count": 288,
   "metadata": {},
   "outputs": [],
   "source": [
    "############################################################################\n",
    "def read_czi(filename, trim=False, swapaxes=True):\n",
    "    \"\"\"Read a czi file into an ndarray\n",
    "    \n",
    "    Args:\n",
    "        filename: string\n",
    "            Path to czi file\n",
    "        trim: bool\n",
    "            If true, remove last frame\n",
    "        swapaxes: bool\n",
    "            If true, switches first two axes to produce a stack order ctzxy\n",
    "            \n",
    "    Returns:\n",
    "        stack: ndarray\n",
    "            Image stack in dimensions [t,c,z,x,y] (no swap) or \n",
    "            [c,t,z,x,y] (swapped)\n",
    "    \"\"\"\n",
    "    stack = czifile.imread(filename)\n",
    "    stack = np.squeeze(stack)\n",
    "    # Trim off last frame \n",
    "    if trim:\n",
    "        stack = stack[0:stack.shape[0]-1]\n",
    "    if (swapaxes):\n",
    "        stack = np.swapaxes(stack,0,1)\n",
    "    return stack"
   ]
  },
  {
   "cell_type": "code",
   "execution_count": 292,
   "metadata": {},
   "outputs": [],
   "source": [
    "stack2 = read_czi('/Users/MStadler/Bioinformatics/Projects/Zelda/Quarantine_analysis/data/EVE_D11-13.czi', True)"
   ]
  },
  {
   "cell_type": "code",
   "execution_count": 295,
   "metadata": {
    "collapsed": true
   },
   "outputs": [
    {
     "name": "stdout",
     "output_type": "stream",
     "text": [
      "1\n",
      "2\n",
      "3\n",
      "4\n",
      "5\n",
      "6\n",
      "7\n",
      "8\n",
      "9\n",
      "10\n",
      "11\n",
      "12\n",
      "13\n",
      "14\n",
      "15\n",
      "16\n",
      "17\n",
      "18\n",
      "19\n",
      "20\n",
      "21\n",
      "22\n"
     ]
    }
   ],
   "source": [
    "nmask2 = segment_nuclei_4dstack(stack2[1], imp.segment_nuclei3D_monolayer, sigma1=4, min_seed_dist=13, size_max=5000)"
   ]
  },
  {
   "cell_type": "code",
   "execution_count": 296,
   "metadata": {},
   "outputs": [],
   "source": [
    "maskstack = np.vstack((nmask2, nmask))"
   ]
  },
  {
   "cell_type": "code",
   "execution_count": 340,
   "metadata": {},
   "outputs": [],
   "source": [
    "# Randomize labels in each frame to test connecting functions.\n",
    "test = np.zeros_like(maskstack)\n",
    "for n in range(0,test.shape[0]):\n",
    "    labels = np.unique(maskstack[n])[1:]\n",
    "    labels_shuffle = np.copy(labels)\n",
    "    random.shuffle(labels_shuffle)\n",
    "    for i in range(0, len(labels)):\n",
    "        old_label = labels[i]\n",
    "        new_label = labels_shuffle[i]\n",
    "        test[n][maskstack[n] == old_label] = new_label"
   ]
  },
  {
   "cell_type": "code",
   "execution_count": 310,
   "metadata": {},
   "outputs": [
    {
     "data": {
      "application/vnd.jupyter.widget-view+json": {
       "model_id": "7d1cc2fae4a4464282896a71025dd61b",
       "version_major": 2,
       "version_minor": 0
      },
      "text/plain": [
       "interactive(children=(Dropdown(description='Color', index=4, options=('inferno', 'gray_r', 'magma', 'Greens', …"
      ]
     },
     "metadata": {},
     "output_type": "display_data"
    }
   ],
   "source": [
    "viewer(test,'tzxy')"
   ]
  },
  {
   "cell_type": "code",
   "execution_count": 397,
   "metadata": {},
   "outputs": [
    {
     "name": "stdout",
     "output_type": "stream",
     "text": [
      "frame 1\n",
      "0\n",
      "frame 2\n",
      "1\n",
      "0\n",
      "frame 3\n",
      "2\n",
      "1\n",
      "0\n",
      "frame 4\n",
      "3\n",
      "2\n",
      "1\n",
      "frame 5\n",
      "4\n",
      "3\n",
      "2\n"
     ]
    }
   ],
   "source": [
    "# Fired at 11:05\n",
    "reload(imp)\n",
    "test_c6 = connect_nuclei(test[24:30], 2, imp.update_labels)"
   ]
  },
  {
   "cell_type": "code",
   "execution_count": 561,
   "metadata": {},
   "outputs": [
    {
     "data": {
      "application/vnd.jupyter.widget-view+json": {
       "model_id": "57b8b4ae8e3a41ec999a5cd000541f6c",
       "version_major": 2,
       "version_minor": 0
      },
      "text/plain": [
       "interactive(children=(Dropdown(description='Color', index=4, options=('inferno', 'gray_r', 'magma', 'Greens', …"
      ]
     },
     "metadata": {},
     "output_type": "display_data"
    }
   ],
   "source": [
    "viewer(test_c6, 'tzxy',13)"
   ]
  },
  {
   "cell_type": "code",
   "execution_count": 343,
   "metadata": {},
   "outputs": [],
   "source": [
    "update = imp.update_labels(test[0],test[1])"
   ]
  },
  {
   "cell_type": "code",
   "execution_count": 344,
   "metadata": {},
   "outputs": [
    {
     "data": {
      "text/plain": [
       "<matplotlib.image.AxesImage at 0x1497d43d0>"
      ]
     },
     "execution_count": 344,
     "metadata": {},
     "output_type": "execute_result"
    },
    {
     "data": {
      "image/png": "[encoded data removed]",
      "text/plain": [
       "<Figure size 1152x288 with 3 Axes>"
      ]
     },
     "metadata": {
      "needs_background": "light"
     },
     "output_type": "display_data"
    }
   ],
   "source": [
    "ax=imp.qax(3)\n",
    "ax[0].imshow(test[0,0])\n",
    "ax[1].imshow(test[1,0])\n",
    "ax[2].imshow(update[0])"
   ]
  },
  {
   "cell_type": "code",
   "execution_count": 3,
   "metadata": {},
   "outputs": [],
   "source": [
    "mask = load_pickle('/Users/MStadler/Bioinformatics/Projects/Zelda/Quarantine_analysis/results/EVE_D11-14_nucmask.pkl')"
   ]
  },
  {
   "cell_type": "code",
   "execution_count": 4,
   "metadata": {},
   "outputs": [
    {
     "data": {
      "application/vnd.jupyter.widget-view+json": {
       "model_id": "479a6badacf64962b26947b62bf49bee",
       "version_major": 2,
       "version_minor": 0
      },
      "text/plain": [
       "interactive(children=(Dropdown(description='Color', index=3, options=('cividis', 'plasma', 'Greens', 'viridis'…"
      ]
     },
     "metadata": {},
     "output_type": "display_data"
    }
   ],
   "source": [
    "viewer(mask, 'tzxy')"
   ]
  },
  {
   "cell_type": "code",
   "execution_count": 6,
   "metadata": {},
   "outputs": [
    {
     "data": {
      "application/vnd.jupyter.widget-view+json": {
       "model_id": "468ef4cd084a4df2bd94d249bbe370f3",
       "version_major": 2,
       "version_minor": 0
      },
      "text/plain": [
       "interactive(children=(Dropdown(description='Color', index=3, options=('cividis', 'plasma', 'Greens', 'viridis'…"
      ]
     },
     "metadata": {},
     "output_type": "display_data"
    }
   ],
   "source": [
    "test = np.zeros_like(mask)\n",
    "test=test[0:8]\n",
    "test[0:3,:,100:200,100:200] = 1\n",
    "test[4:,:,150:250,150:250] = 1\n",
    "viewer(test,'tzxy')"
   ]
  },
  {
   "cell_type": "code",
   "execution_count": 9,
   "metadata": {},
   "outputs": [
    {
     "data": {
      "application/vnd.jupyter.widget-view+json": {
       "model_id": "ed4f83b86baf40efb9d197728619ff71",
       "version_major": 2,
       "version_minor": 0
      },
      "text/plain": [
       "interactive(children=(Dropdown(description='Color', index=3, options=('cividis', 'plasma', 'Greens', 'viridis'…"
      ]
     },
     "metadata": {},
     "output_type": "display_data"
    }
   ],
   "source": [
    "test2 = mask[6:11]\n",
    "test2[2][test2[2] == 100] = 0\n",
    "test2[2][test2[2] == 101] = 0\n",
    "test2[2][test2[2] == 103] = 0\n",
    "test2[2][test2[2] == 200] = 0\n",
    "test2[2][test2[2] == 201] = 0\n",
    "viewer(test2.astype('bool'), 'tzxy')"
   ]
  },
  {
   "cell_type": "code",
   "execution_count": 10,
   "metadata": {},
   "outputs": [
    {
     "data": {
      "application/vnd.jupyter.widget-view+json": {
       "model_id": "12e7be2f79b241c7a14a1e2427298ea8",
       "version_major": 2,
       "version_minor": 0
      },
      "text/plain": [
       "interactive(children=(Dropdown(description='Color', index=3, options=('cividis', 'plasma', 'Greens', 'viridis'…"
      ]
     },
     "metadata": {},
     "output_type": "display_data"
    }
   ],
   "source": [
    "from imagep import get_object_centroid\n",
    "# Interpolate nuclei.\n",
    "#mask=np.copy(test)\n",
    "############################################################################\n",
    "def interpolate_nuclear_mask(mask, max_missing_frames):\n",
    "    \"\"\"Fill-in frames of nuclear mask to compensate for dropout.\n",
    "    \n",
    "    So far all nuclear segmentation routines I've tried are susceptible to\n",
    "    occasional dropout — cases where a nucleus is absent from one or more \n",
    "    frames. This function fills in those gaps. Interpolated nuclei have the \n",
    "    same shape as the nucleus in the preceding frame with the centroid of\n",
    "    that shape lying at the mean position of the centroids of the nucleus\n",
    "    in the preceding and succeeding frame. So if a nucleus is missing from \n",
    "    frame 4, the centroid of the nucleus is taken in frame 3 and 5 and the \n",
    "    mean of those is used as the centroid of the new nucleus. All the pixels\n",
    "    belonging to the nucleus in frame 3 are then shifted to match this new\n",
    "    centroid and this is the final interpolated nuclear object.\n",
    "    \n",
    "    Args:\n",
    "        mask: ndarray\n",
    "            4D labelmask of segmented nuclei\n",
    "        max_missing_frames: int\n",
    "            Maximum allowable number of consecutive frames missing a nucleus for\n",
    "            interpolation to be executed.\n",
    "            \n",
    "    Returns:\n",
    "        newmask: ndarray\n",
    "            Labelmask in the same shape as input with interpolated nuclei.\n",
    "    \n",
    "    \"\"\"\n",
    "    def find_surrounding_frames(frame, frames_with):\n",
    "        \"\"\"Find nearest frames containing nucleus before and after frame missing nucleus\"\"\"\n",
    "        # If frame is missing from the beginning, return initial frame twice.\n",
    "        if (frame < frames_with[0]):\n",
    "            return frames_with[0], frames_with[0], frames_with[0] - frame\n",
    "        # If frame is missing from the end, return last frame twice.\n",
    "        elif (frame > frames_with[-1]):\n",
    "            return frames_with[-1], frames_with[-1], frame - frames_with[-1]\n",
    "        # If frame is missing in the middle, return surrounding frames.\n",
    "        else:\n",
    "            for i in range(1, len(frames_with)):\n",
    "                frame_before = frames_with[i-1]\n",
    "                frame_after = frames_with[i]\n",
    "                if (frame > frame_before and frame < frame_after):\n",
    "                    return frame_before, frame_after, frame_after - frame_before - 1\n",
    "\n",
    "    def interpolate(mask, newmask, label, frame, frames_with, coords, frame_before, frame_after):\n",
    "        \"\"\"Use position of nucleus in preceding and succeeding frames to interpolate \n",
    "        nucleus in missing frame\"\"\"\n",
    "        # Find centroid of nucleus in before and after frames, take the mean centroid for\n",
    "        # the position of interpolated nucleus.\n",
    "        centroid_before = get_object_centroid(mask[frame_before], label)\n",
    "        centroid_after = get_object_centroid(mask[frame_after], label)\n",
    "        mean_centroid = [sum(y) / len(y) for y in zip(*(centroid_before, centroid_after))]\n",
    "        mean_centroid = [int(i) for i in mean_centroid]\n",
    "        # Get difference of mean centroid and before centroid.\n",
    "        centroid_diff = ([mean_centroid[0] - centroid_before[0]])\n",
    "        for i in range(1,len(mean_centroid)):\n",
    "            centroid_diff = centroid_diff + ([mean_centroid[i] - centroid_before[i]])\n",
    "        # Make a boolean for all the coordinates in the before frame.\n",
    "        obj_bool = coords[0] == frame_before\n",
    "        # Assign the frame number to the first position for all interpolated coordinates.\n",
    "        interp_coords = tuple([np.repeat(frame, np.count_nonzero(obj_bool))])\n",
    "        # For remaining dimensions, use centroid difference to \"move\" pixels of nucleus\n",
    "        # from before frame to the interpolated position.\n",
    "        for i in range(0, len(centroid_diff)):\n",
    "            interp_coords = interp_coords + tuple([coords[i+1][obj_bool] + centroid_diff[i]])\n",
    "        # Update newmask in place.\n",
    "        newmask[interp_coords] = label\n",
    "\n",
    "    # Main.\n",
    "    newmask = np.copy(mask)\n",
    "    labels = np.unique(mask)[1:]\n",
    "    t_frames = np.arange(0,mask.shape[0])\n",
    "    for label in labels:\n",
    "        # Find all point coordinates with the label.\n",
    "        coords = np.where(np.isin(mask, label))\n",
    "        # Find frames containing and lacking label.\n",
    "        frames_with = np.unique(coords[0])\n",
    "        frames_without = t_frames[~np.isin(t_frames, frames_with)]\n",
    "        # Interpolate nucleus for each frame lacking it.\n",
    "        for frame in frames_without:\n",
    "            frame_before, frame_after, num_consecutive_skipped = find_surrounding_frames(frame, frames_with)\n",
    "            if (num_consecutive_skipped <= max_missing_frames):\n",
    "                interpolate(mask, newmask, label, frame, frames_with, coords, frame_before, frame_after)\n",
    "    return newmask\n",
    "    \n",
    "a=interpolate_nuclear_mask(test, np.inf)       \n",
    "viewer(a,'tzxy')    "
   ]
  },
  {
   "cell_type": "code",
   "execution_count": 13,
   "metadata": {},
   "outputs": [],
   "source": [
    "#b=interpolate_nuclear_mask(test2, np.inf)\n",
    "c=interpolate_nuclear_mask(test2, 0)"
   ]
  },
  {
   "cell_type": "code",
   "execution_count": 14,
   "metadata": {},
   "outputs": [
    {
     "data": {
      "application/vnd.jupyter.widget-view+json": {
       "model_id": "3369298686d94e7d964faba4f0564c0d",
       "version_major": 2,
       "version_minor": 0
      },
      "text/plain": [
       "interactive(children=(Dropdown(description='Color', index=3, options=('cividis', 'plasma', 'Greens', 'viridis'…"
      ]
     },
     "metadata": {},
     "output_type": "display_data"
    }
   ],
   "source": [
    "viewer(c.astype('bool'),'tzxy',12)"
   ]
  },
  {
   "cell_type": "code",
   "execution_count": 17,
   "metadata": {},
   "outputs": [
    {
     "data": {
      "application/vnd.jupyter.widget-view+json": {
       "model_id": "b19ce4387bb74019988071a2a09171a7",
       "version_major": 2,
       "version_minor": 0
      },
      "text/plain": [
       "interactive(children=(Dropdown(description='Color', index=3, options=('cividis', 'plasma', 'Greens', 'viridis'…"
      ]
     },
     "metadata": {},
     "output_type": "display_data"
    }
   ],
   "source": [
    "test2 = mask[6:11]\n",
    "test2[2:4][test2[2:4] == 100] = 0\n",
    "test2[2:4][test2[2:4] == 101] = 0\n",
    "test2[2:4][test2[2:4] == 103] = 0\n",
    "test2[2:4][test2[2:4] == 200] = 0\n",
    "test2[2:4][test2[2:4] == 201] = 0\n",
    "viewer(test2.astype('bool'),'tzxy',12)"
   ]
  },
  {
   "cell_type": "code",
   "execution_count": 18,
   "metadata": {},
   "outputs": [],
   "source": [
    "d=interpolate_nuclear_mask(test2, 1)\n",
    "e=interpolate_nuclear_mask(test2, 2)"
   ]
  },
  {
   "cell_type": "code",
   "execution_count": 19,
   "metadata": {},
   "outputs": [
    {
     "data": {
      "application/vnd.jupyter.widget-view+json": {
       "model_id": "1b5b0bdc66a9408aa359fee54ad6a0ba",
       "version_major": 2,
       "version_minor": 0
      },
      "text/plain": [
       "interactive(children=(Dropdown(description='Color', index=3, options=('cividis', 'plasma', 'Greens', 'viridis'…"
      ]
     },
     "metadata": {},
     "output_type": "display_data"
    }
   ],
   "source": [
    "viewer(d.astype('bool'),'tzxy')"
   ]
  },
  {
   "cell_type": "code",
   "execution_count": 20,
   "metadata": {},
   "outputs": [
    {
     "data": {
      "application/vnd.jupyter.widget-view+json": {
       "model_id": "332e2d33bf684c719313edeca6f32486",
       "version_major": 2,
       "version_minor": 0
      },
      "text/plain": [
       "interactive(children=(Dropdown(description='Color', index=3, options=('cividis', 'plasma', 'Greens', 'viridis'…"
      ]
     },
     "metadata": {},
     "output_type": "display_data"
    }
   ],
   "source": [
    "viewer(e.astype('bool'),'tzxy')"
   ]
  },
  {
   "cell_type": "markdown",
   "metadata": {},
   "source": [
    "## Taking stock\n",
    "\n",
    "OK, well I managed to re-write everything, again. I now have a pretty decent czi segmentation routine...maybe. I'll need to write this up for myself so I can keep track of what I'm doing, since it's gotten pretty complex. I think the next step is to do what I was hoping to do to start: Run the segmentation on one of Augusto's datasets and begin to figure out how to do analysis on the spots. An interesting approach would be to use the histone channel as a control for \"surge\"-type analysis. \n",
    "\n",
    "## Testing everything on Augusto's data"
   ]
  },
  {
   "cell_type": "code",
   "execution_count": 23,
   "metadata": {},
   "outputs": [],
   "source": [
    "reload(imp)\n",
    "from imagep import read_czi\n",
    "stack = read_czi('/Users/MStadler/Bioinformatics/Projects/Zelda/Quarantine_analysis/data/EVE_D11-14.czi', True)"
   ]
  },
  {
   "cell_type": "code",
   "execution_count": 25,
   "metadata": {
    "collapsed": true
   },
   "outputs": [
    {
     "name": "stdout",
     "output_type": "stream",
     "text": [
      "1\n",
      "2\n",
      "3\n",
      "4\n",
      "5\n",
      "6\n",
      "7\n",
      "8\n",
      "9\n",
      "10\n",
      "11\n",
      "12\n",
      "13\n",
      "14\n",
      "15\n",
      "16\n",
      "17\n",
      "18\n",
      "19\n",
      "20\n",
      "21\n",
      "22\n"
     ]
    }
   ],
   "source": [
    "mask_init14 = imp.segment_nuclei_4dstack(stack[1], imp.segment_nuclei3D_monolayer, sigma1=4, min_seed_dist=13, size_max=5000)"
   ]
  },
  {
   "cell_type": "code",
   "execution_count": 27,
   "metadata": {},
   "outputs": [],
   "source": [
    "mask_init = np.vstack((mask_init12, mask_init13, mask_init14))"
   ]
  },
  {
   "cell_type": "code",
   "execution_count": 42,
   "metadata": {},
   "outputs": [
    {
     "data": {
      "application/vnd.jupyter.widget-view+json": {
       "model_id": "c4cf792a6e9e4a7e9a5da4f3ebb9a96b",
       "version_major": 2,
       "version_minor": 0
      },
      "text/plain": [
       "interactive(children=(Dropdown(description='Color', index=2, options=('Greens', 'magma', 'viridis', 'plasma', …"
      ]
     },
     "metadata": {},
     "output_type": "display_data"
    }
   ],
   "source": [
    "imp.viewer(mask_init)"
   ]
  },
  {
   "cell_type": "code",
   "execution_count": 47,
   "metadata": {},
   "outputs": [
    {
     "data": {
      "text/plain": [
       "<matplotlib.image.AxesImage at 0x138673b50>"
      ]
     },
     "execution_count": 47,
     "metadata": {},
     "output_type": "execute_result"
    },
    {
     "data": {
      "image/png": "[encoded data removed]",
      "text/plain": [
       "<Figure size 432x288 with 1 Axes>"
      ]
     },
     "metadata": {
      "needs_background": "light"
     },
     "output_type": "display_data"
    }
   ],
   "source": [
    "#ax=imp.qax(2)\n",
    "plt.imshow(mask_init[38,0],cmap='Reds',alpha=0.5)\n",
    "plt.imshow(mask_init[37,0],cmap='Greens',alpha=0.5)"
   ]
  },
  {
   "cell_type": "code",
   "execution_count": 40,
   "metadata": {
    "collapsed": true
   },
   "outputs": [
    {
     "name": "stdout",
     "output_type": "stream",
     "text": [
      "1\n",
      "2\n",
      "3\n",
      "4\n",
      "5\n",
      "6\n",
      "7\n",
      "8\n",
      "9\n",
      "10\n",
      "11\n",
      "12\n",
      "13\n",
      "14\n",
      "15\n",
      "16\n",
      "17\n",
      "18\n",
      "19\n",
      "20\n",
      "21\n",
      "22\n",
      "23\n",
      "24\n",
      "25\n",
      "26\n",
      "27\n",
      "28\n",
      "29\n",
      "30\n",
      "31\n",
      "32\n",
      "33\n",
      "34\n",
      "35\n",
      "36\n",
      "37\n",
      "38\n",
      "39\n",
      "40\n",
      "41\n",
      "42\n",
      "43\n",
      "44\n",
      "45\n",
      "46\n",
      "47\n",
      "48\n",
      "49\n",
      "50\n",
      "51\n",
      "52\n",
      "53\n",
      "54\n",
      "55\n",
      "56\n",
      "57\n",
      "58\n",
      "59\n",
      "60\n"
     ]
    }
   ],
   "source": [
    "reload(imp)\n",
    "mask_conn = imp.connect_nuclei(mask_init)"
   ]
  },
  {
   "cell_type": "code",
   "execution_count": 41,
   "metadata": {},
   "outputs": [
    {
     "data": {
      "application/vnd.jupyter.widget-view+json": {
       "model_id": "937e58968f5a4ff1b361ac0de390615d",
       "version_major": 2,
       "version_minor": 0
      },
      "text/plain": [
       "interactive(children=(Dropdown(description='Color', index=2, options=('Greens', 'magma', 'viridis', 'plasma', …"
      ]
     },
     "metadata": {},
     "output_type": "display_data"
    }
   ],
   "source": [
    "viewer(mask_conn,'tzxy')"
   ]
  },
  {
   "cell_type": "code",
   "execution_count": 14,
   "metadata": {},
   "outputs": [],
   "source": [
    "reload(imp)\n",
    "mask_interp = imp.interpolate_nuclear_mask(mask_conn)"
   ]
  },
  {
   "cell_type": "code",
   "execution_count": 15,
   "metadata": {},
   "outputs": [
    {
     "data": {
      "application/vnd.jupyter.widget-view+json": {
       "model_id": "6efe781929e441ffa7733336c2203396",
       "version_major": 2,
       "version_minor": 0
      },
      "text/plain": [
       "interactive(children=(Dropdown(description='Color', index=2, options=('Greens', 'magma', 'viridis', 'plasma', …"
      ]
     },
     "metadata": {},
     "output_type": "display_data"
    }
   ],
   "source": [
    "viewer(mask_interp, 'tzxy')"
   ]
  },
  {
   "cell_type": "code",
   "execution_count": 17,
   "metadata": {},
   "outputs": [],
   "source": [
    "b=np.vstack((mask_init,mask_init))"
   ]
  },
  {
   "cell_type": "code",
   "execution_count": 21,
   "metadata": {},
   "outputs": [
    {
     "data": {
      "text/plain": [
       "(15, 21, 256, 1024)"
      ]
     },
     "execution_count": 21,
     "metadata": {},
     "output_type": "execute_result"
    }
   ],
   "source": [
    "mask_init.shape"
   ]
  },
  {
   "cell_type": "code",
   "execution_count": 30,
   "metadata": {},
   "outputs": [
    {
     "data": {
      "text/plain": [
       "5"
      ]
     },
     "execution_count": 30,
     "metadata": {},
     "output_type": "execute_result"
    }
   ],
   "source": [
    "def get_default_order(n):\n",
    "    \n",
    "len(stack.shape)"
   ]
  },
  {
   "cell_type": "code",
   "execution_count": 34,
   "metadata": {},
   "outputs": [
    {
     "data": {
      "text/plain": [
       "'xy'"
      ]
     },
     "execution_count": 34,
     "metadata": {},
     "output_type": "execute_result"
    }
   ],
   "source": [
    "'ctzxy'[5-2:]"
   ]
  },
  {
   "cell_type": "code",
   "execution_count": 35,
   "metadata": {},
   "outputs": [
    {
     "data": {
      "text/plain": [
       "5"
      ]
     },
     "execution_count": 35,
     "metadata": {},
     "output_type": "execute_result"
    }
   ],
   "source": [
    "stack.ndim"
   ]
  },
  {
   "cell_type": "code",
   "execution_count": null,
   "metadata": {},
   "outputs": [],
   "source": []
  }
 ],
 "metadata": {
  "kernelspec": {
   "display_name": "Python (image_analysis1)",
   "language": "python",
   "name": "image_analysis1"
  },
  "language_info": {
   "codemirror_mode": {
    "name": "ipython",
    "version": 3
   },
   "file_extension": ".py",
   "mimetype": "text/x-python",
   "name": "python",
   "nbconvert_exporter": "python",
   "pygments_lexer": "ipython3",
   "version": "3.8.2"
  }
 },
 "nbformat": 4,
 "nbformat_minor": 4
}
