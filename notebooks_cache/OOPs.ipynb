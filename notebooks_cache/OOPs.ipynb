{
 "cells": [
  {
   "cell_type": "markdown",
   "metadata": {},
   "source": [
    "# OOPs! I tried to learn about classes an all I got were these lousy objects.\n",
    "\n",
    "[Souce tutorial](https://realpython.com/python3-object-oriented-programming/)\n",
    "\n",
    "'Objects', 'classes', 'object-oriented'...you've likely heard hese terms banging around in the coding/Python universe. If you're like me in a past life, you have a sense that they're all related in some way, but you're not exactly sure how, and you're not exactly sure what they are or why they are useful. Have no fear! It's actually pretty simple—so much so that you've already been working with objects and probably didn't even know it. To wit, let's start with something we already know about: __lists__."
   ]
  },
  {
   "cell_type": "code",
   "execution_count": null,
   "metadata": {},
   "outputs": [],
   "source": [
    "puppers = ['Shea', 'Barney', 'Daisy']"
   ]
  },
  {
   "cell_type": "markdown",
   "metadata": {},
   "source": [
    "So what can we say about *__puppers__*? First of all, it is a particular instance of a more general thing called a __list__. Second, it contains some data (some pups). And finally, it has methods associated with it:"
   ]
  },
  {
   "cell_type": "code",
   "execution_count": null,
   "metadata": {},
   "outputs": [],
   "source": [
    "puppers.append('Luna')\n",
    "print(puppers)\n",
    "puppers.sort()\n",
    "print(puppers)"
   ]
  },
  {
   "cell_type": "markdown",
   "metadata": {},
   "source": [
    "SURPRISE! *__puppers__* is an object. Objects are named 'things' in your code that have those properties: they can contain data and methods, and they are members of broader classes of 'things'. The terminology we use is that the types are called *classes* and the specific things you make are called *objects* or *instances*.\n",
    "\n",
    "So in our example, *__puppers__* is an *object*, and it is an *instance* of the *class* __list__.\n",
    "\n",
    "## What is object-oriented programming (OOP)?\n",
    "\n",
    "So it turns out you've already been working with objects and classes. All the 'things' you know and love—all the lists, dicts, sets, ndarrays, panda dataframes, etc. that you've made have secretly been objects, members of their respective classes. The incredibly simple idea behind 'object-oriented programming' is: \n",
    "\n",
    "*Instead of being limited to the types of objects that the makers of Python created, what if we could create our own classes that would serve the specific needs of our programs?*\n",
    "\n",
    "And that's really it. Objected-oriented programming is just coding in which you make your own classes. Now we just need to learn about classes in Python...\n",
    "\n",
    "##### NOTE ON TERMINOLOGY: You'll variably hear the terms 'Object-oriented programming', its acronym 'OOP', and 'classes'. They're all the same thing. In fact C++, which is the object-oriented version of the classic C language, was originally called \"C with classes\". All these terms really just mean using classes in code.\n",
    "\n",
    "##### MINOR NOTE ON TERMINOLOGY: The alternative to object-oriented programming ('normal' coding) is often referred to as 'procedural' programming. \n",
    "\n",
    "## Classes in Python\n",
    "\n",
    "OK, so let's imagine we are trying to write some code about our lab's dogs. To start with, we might want to store a bunch of information about them. We might want to store, say, each dog's name, breed, weight, age, and floofiness. To do this, one solution would be to make separate __lists__ for name, breed, weight, age and floofiness, and each dog gets its own index:"
   ]
  },
  {
   "cell_type": "code",
   "execution_count": null,
   "metadata": {},
   "outputs": [],
   "source": [
    "# Make lists for attributes.\n",
    "name = []\n",
    "breed = []\n",
    "weight = []\n",
    "age = []\n",
    "floof = []\n",
    "\n",
    "# Add Shea's attributes to each list.\n",
    "name.append('Shea')\n",
    "breed.append('Collie')\n",
    "weight.append(60)\n",
    "age.append(10)\n",
    "floof.append(100)\n",
    "\n",
    "# Recall name entry for Shea.\n",
    "print(floof[0])"
   ]
  },
  {
   "cell_type": "markdown",
   "metadata": {},
   "source": [
    "This solution works, but then we have to remember the index for each dog. Another solution might be to make a dictionary dictionaries, with the dog name keying the first dict:"
   ]
  },
  {
   "cell_type": "code",
   "execution_count": null,
   "metadata": {},
   "outputs": [],
   "source": [
    "# Make a dictionary of dogs.\n",
    "dogs = {}\n",
    "\n",
    "# Make a new dictionary for Shea.\n",
    "dogs['Shea']= {}\n",
    "\n",
    "# Populate Shea's dictionary.\n",
    "dogs['Shea']['name'] = 'Shea'\n",
    "dogs['Shea']['breed'] = 'Collie'\n",
    "dogs['Shea']['weight'] = 60\n",
    "dogs['Shea']['age'] = 10\n",
    "dogs['Shea']['floof'] = 100\n",
    "\n",
    "# Access attributes by dictionary lookup.\n",
    "print(dogs['Shea']['floof'])"
   ]
  },
  {
   "cell_type": "markdown",
   "metadata": {},
   "source": [
    "These solutions are both fine—they work! Many of us have written complicated code using data structures just like these. But imagine for a second that Mike tells us on Friday that COVID has made him realize that life is short, and we're going to drop these silly fruit flies and everyone is switching to projects focused on dogs. Now we are all writing code about dogs all day. You might find that you keep needing the data structure above over and over in different scripts, and you get tired of either re-writing it or copying and pasting it from all over your last script. So you get the clever idea to go ahead and organize your code, so that every time you create a new dog you automatically make this data structure, so you only have to copy and paste one section of code (you're shooting for 'portability'):"
   ]
  },
  {
   "cell_type": "code",
   "execution_count": 1,
   "metadata": {
    "collapsed": true
   },
   "outputs": [
    {
     "name": "stdout",
     "output_type": "stream",
     "text": [
      "Shea\n",
      "Bichon Frise\n"
     ]
    }
   ],
   "source": [
    "# Initialize data for a new dog.\n",
    "def initialize_dog(name, puppers, breed='', weight=0, age=0, floof=0):\n",
    "    puppers[name] = {}\n",
    "    puppers[name]['name'] = name\n",
    "    puppers[name]['breed'] = breed\n",
    "    puppers[name]['weight'] = weight\n",
    "    puppers[name]['age'] = age\n",
    "    puppers[name]['floof'] = floof\n",
    "\n",
    "# Make a new dict for dogs\n",
    "puppers = {}\n",
    "\n",
    "# Add data for Shea using our new function.\n",
    "initialize_dog('Shea', puppers, 'Collie', 60, 10, 100)\n",
    "initialize_dog(\"Luna\", puppers, 'Bichon Frise', 20, 5, 80)\n",
    "\n",
    "# Access data through dict lookup.\n",
    "print(puppers['Shea']['name'])\n",
    "print(puppers['Luna']['breed'])"
   ]
  },
  {
   "cell_type": "markdown",
   "metadata": {},
   "source": [
    "This is a pretty good solution! It organizes your code in a logical way, and it increases its portability. Congratulations! You've (just about) invented classes. To get all the way there, we go ahead and decide we are going to formally create a new type of 'thing' in Python to represent a dog. A new Python class! To do this, we have to use the incredibly complicated process of writing the keyword __class__ and the name we want for our new class:"
   ]
  },
  {
   "cell_type": "code",
   "execution_count": null,
   "metadata": {},
   "outputs": [],
   "source": [
    "class GoodBoy:\n",
    "    pass\n",
    "\n",
    "shea = GoodBoy()\n",
    "type(shea)"
   ]
  },
  {
   "cell_type": "markdown",
   "metadata": {},
   "source": [
    "#### Note about style: Python classes are typically names with CamelCase, capitalizing the first letter of each word, without underscores.\n",
    "\n",
    "### Class attributes\n",
    "\n",
    "We've made our first class. How do we populate it with useful things? Here its useful to go back to the distinction between classes and objects. Remember: class is the *type* of thing (e.g., a __list__), and the *instance* is a specific thing of the type that you've made (e.g., *__puppers__*). Attributes (which is the name for data within classes) can belong to either the class or the instance. This sounds a little complicated, so let's clear it up: a class attribute is something that every member of the class will have. For instance, all dogs are mammals, so we can make a class attribute to provide this information:"
   ]
  },
  {
   "cell_type": "code",
   "execution_count": 3,
   "metadata": {},
   "outputs": [
    {
     "name": "stdout",
     "output_type": "stream",
     "text": [
      "mammal\n",
      "mammal\n"
     ]
    }
   ],
   "source": [
    "class GoodBoy:\n",
    "    # Class attributes\n",
    "    phylo_class = 'mammal'\n",
    "\n",
    "# Class attributes are available from instances...\n",
    "shea = GoodBoy()\n",
    "print(shea.phylo_class)\n",
    "\n",
    "# Class attributes can also be accessed directly from the class.\n",
    "print(GoodBoy.phylo_class)"
   ]
  },
  {
   "cell_type": "markdown",
   "metadata": {},
   "source": [
    "To make a class attribute, we simply write a standard variable assignment within the class. Note that we access class attributes using the dot notation, which is familiar to us by now.\n",
    "\n",
    "### Instance attributes\n",
    "\n",
    "*__phylo_class__* belongs to GoodBoys in general. What about attributes that don't belong to all dogs, but to a specific dog, say name or weight? These are called *instance attributes*. To make instance attributes, first have to create an instance of the class. To do this, we use the __\\_\\_init\\_\\___ method. This isn't anything complicated: __\\_\\_init\\_\\___ is just the function that gets called whenever you create a new instance of the class. You never have to call __\\_\\_init\\_\\___, since it is automatically called whenever you create a new instance of the class. It's basically the __initialize_dog__ function we wrote a minute ago:"
   ]
  },
  {
   "cell_type": "code",
   "execution_count": 6,
   "metadata": {
    "collapsed": true
   },
   "outputs": [
    {
     "name": "stdout",
     "output_type": "stream",
     "text": [
      "Shea\n",
      "100\n"
     ]
    }
   ],
   "source": [
    "class GoodBoy:\n",
    "    # Class attributes\n",
    "    phylo_class = 'mammal'\n",
    "        \n",
    "    # Initializer. In English: whenever we make a new dog, do the following...\n",
    "    def __init__(self, name):\n",
    "        self.name = name\n",
    "        self.breed = ''\n",
    "        self.age = 0\n",
    "        self.weight = 0\n",
    "        self.floof = 0\n",
    "\n",
    "shea = GoodBoy('Shea')\n",
    "print(shea.name)\n",
    "shea.floof = 100\n",
    "print(shea.floof)\n"
   ]
  },
  {
   "cell_type": "markdown",
   "metadata": {},
   "source": [
    "#### self, explained:\n",
    "What's going on with *__self__*??? *__self__* is how we refer to the *instance* of a class within our code defining the class. It solves the problem that we want to work on instances of the class (e.g., shea, or barney, or luna), but in our class code we don't yet know the name of the instance. *__self__* is a stand-in for the name of the instance, so you can mentally replace *__self__* with __shea__ when thinking about how this code will operate when you make *__shea__*. *__self__* is always the first argument to the __\\_\\_init\\_\\___ method, and we use *__self__* + dot notation to do things specifically to the *intance* that gets created out of our class. \n",
    "\n",
    "So in the code above, when we wrote *shea = GoodBoy('Shea')*, this called the __\\_\\_init\\_\\___ method of the class __GoodBoy__. This method created a new object called *__shea__* and then assigned 'Shea' to the name attribute specifically of *__shea__* (rather than to all __GoodBoys__ — only *__shea__* get's the name 'Shea').\n",
    "\n",
    "###### NOTE: when calling the method you ignore __self__ and just start with the second argument (if there is one). Python automatically supplies the object as the first argument \"behind the scenes\".\n",
    "\n",
    "Whew! Let's pause for a mini-review of what we've learned:\n",
    "* We made a new class of Python thing called a __GoodBoy__ which represents dogs.\n",
    "* We gave a *class attribute* to GoodBoy that tells us that all dogs are mammals.\n",
    "* We used the __\\_\\_init\\_\\___ method to initialize individual instances of __GoodBoys__, and assigned *instance attributes* like name and floof that belong to individual __GoodBoys__ (not all __GoodBoys__).\n",
    "\n",
    "We've made a nifty container object. And this is just bare bones. All of our attributes here are simple strings or ints, but they can be ANYTHING. Attributes can be __lists, ndarrays, dataframe, functions,__ or other objects (!). But attributes are only half the story on classes. Remember from looking at our old friend the humble __list__, Python objects don't just store data but can also do stuff like—for lists—append and sort. How do we make our classes be not just containers for data but capable of actions? For that, we need to implement __*methods*__.\n",
    "\n",
    "### Instance methods\n",
    "\n",
    "Happily, we don't have to learn anything new to build methods in our classes. *Methods* is just a term we use for *functions* when they occur in classes—and we make them the EXACT same way, with the __def__ keyword. The literal __ONLY__ thing we have to do different is that an instance method (which belongs to a specific instance of the class) has to take *__self__* as its first argument. That's it! Otherwise you just write a function like you always do. Here let's write an instance method introducing our good boys:"
   ]
  },
  {
   "cell_type": "code",
   "execution_count": null,
   "metadata": {},
   "outputs": [],
   "source": [
    "class GoodBoy:\n",
    "    # Class attributes\n",
    "    phylo_class = 'mammal'\n",
    "        \n",
    "    # Initializer\n",
    "    def __init__(self, name, breed, age, weight, floof):\n",
    "        self.name = name\n",
    "        self.breed = breed\n",
    "        self.age = age\n",
    "        self.weight = weight\n",
    "        self.floof = floof\n",
    "    \n",
    "    # Instance method\n",
    "    def introduce(self):\n",
    "        if (self.floof > 50):\n",
    "            floofter = \"I am a floofter\"\n",
    "        else:\n",
    "            \"I am not a floofter\"\n",
    "        \n",
    "        print(\"Hi! My name is {} and I am a very good boy! I am a {}, I am {} years old in human years, I weigh {} pounds, and {}!\".format(self.name, self.breed, str(self.age), str(self.weight), floofter))\n",
    "\n",
    "# Initialize Shea as a GoodBoy\n",
    "shea = GoodBoy('Shea', 'Collie',10, 60, 100)\n",
    "# Call method using dot notation.\n",
    "shea.introduce()"
   ]
  },
  {
   "cell_type": "markdown",
   "metadata": {},
   "source": [
    "*__Instance methods__*: exactly like normal Python functions with __self__ as first argument.\n",
    "\n",
    "### Class methods\n",
    "\n",
    "Instance methods, as the name suggests, belong to the instance. What does that mean? Primarily, it means that we have to create a member of that class in order to call it. What if we want to create a method for the class that doesn't require creating an instance? For example, what if we wanted a function that gives some basic information about dogs that isn't specific to any one dog? For this, we use class methods:"
   ]
  },
  {
   "cell_type": "code",
   "execution_count": null,
   "metadata": {},
   "outputs": [],
   "source": [
    "class GoodBoy:\n",
    "    # Class attributes\n",
    "    phylo_class = 'mammal'\n",
    "        \n",
    "    # Initializer\n",
    "    def __init__(self, name, breed, age, weight, floof):\n",
    "        self.name = name\n",
    "        self.breed = breed\n",
    "        self.age = age\n",
    "        self.weight = weight\n",
    "        self.floof = floof\n",
    "    \n",
    "    # Instance method\n",
    "    def introduce(self):\n",
    "        if (self.floof > 50):\n",
    "            floofter = \"I am a floofter\"\n",
    "        else:\n",
    "            \"I am not a floofter\"\n",
    "        \n",
    "        print(\"Hi! My name is {} and I am a very good boy! I am a {}, I am {} years old in human years, I weigh {} pounds, and {}!\".format(self.name, self.breed, str(self.age), str(self.weight), floofter))\n",
    "\n",
    "    @classmethod\n",
    "    def information(cls):\n",
    "        info = 'The dog is a member of the genus Canis (canines), which forms part of the wolf-like canids, and is the most widely abundant terrestrial carnivore. The dog was the first species to be domesticated, and has been selectively bred over millennia for various behaviors, sensory capabilities, and physical attributes. Their long association with humans has led dogs to be uniquely attuned to human behavior and has earned them the distinction of being mans best friend. Additionally, they are all very good boys.\\n'\n",
    "        print(info)\n",
    "\n",
    "# Call class method directly from class.\n",
    "GoodBoy.information()\n",
    "shea = GoodBoy('Shea', 'Collie',10, 60, 100)\n",
    "shea.introduce()\n",
    "print('')\n",
    "# Call class method from a class instance.\n",
    "shea.information()\n"
   ]
  },
  {
   "cell_type": "markdown",
   "metadata": {},
   "source": [
    "Class methods are marked by the __@classmethod__ decorator, which must occur on the line preceding the function. They take a class (*__cls__*) as their first argument. Just like __self__, you don't have to supply __cls__ when you call these functions—Python takes care of it behind the scenes. Note that class methods can be called directly from the class (line 26) or from an instance of the class (line 30). Class methods 'belong' to the class generally and to instances.\n",
    "\n",
    "__BONUS MATERIAL:__ A third type of method you can create in classes is the __@staticmethod__ which takes no special arguments and is indeed just a regular function that simply makes sense to package with the class (often 'utility' functions). Like class methods, static methods can be called from the class or instantiated objects. [Read more about class methods vs. static methods.](https://www.geeksforgeeks.org/class-method-vs-static-method-python/)\n",
    "\n",
    "__Quick Review of methods in Python classes:__\n",
    "\n",
    "* *Methods* is just what we call functions inside classes, and they are created using the __def__ keyword like all Python functions.\n",
    "* *Instance methods* take *__self__* as their first argument and can only be called from instances of the class.\n",
    "* *Class methods* are marked by the __@classmethod__ decorator, take *__cls__* as a first argument, and can be called from the class or from an instance.\n",
    "\n",
    "That's most of what we need to get started with Python classes. There's just one more piece...\n",
    "\n",
    "## Inheritance and Python classes\n",
    "\n",
    "Let's say we're coding along, and we decide that floofters are really distinct enough that we want to make a new class just for them. This class will need most of what we put into GoodBoy, but will add a few things. Do we have to copy everything from GoodBoy and paste it into Floofter? Nope (copy and pasting code is almost never the right answer!). We can use object inheritance!"
   ]
  },
  {
   "cell_type": "code",
   "execution_count": null,
   "metadata": {},
   "outputs": [],
   "source": [
    "class Floofter(GoodBoy):\n",
    "    pass\n",
    "\n",
    "shea = Floofter('Shea', 'Collie',10, 60, 100)\n",
    "shea.introduce()\n",
    "print(type(shea))"
   ]
  },
  {
   "cell_type": "markdown",
   "metadata": {},
   "source": [
    "By putting __GoodBoy__ in the parentheses in the class construction statement, we told Python that __Floofter__ is a child of the parent class __GoodBoy__. This means that any __Floofter__ we create will have all the attributes and methods that we already made for __GoodBoy__, without us having to copy a single line of code! As we can see above, *__shea__* can still do all the GoodBoy things (initialize, introduce), but Python now says *__shea__*'s type is __Floofter__.\n",
    "\n",
    "Here's a more formal description of object inheritance:\n",
    "\n",
    "Inheritance is the process by which one class takes on the attributes and methods of another. Newly formed classes are called *child classes*, and the classes that child classes are derived from are called *parent classes*. The child class inherits all of the functionality (attributes and methods) of its parent classes, and in the case of any conflicts, the *child class wins*: Changes in the child class override anything in the parent class. The new child class extends or overrides functionality of the parent class. This is incredibly powerful, as it means that instead of having to rewrite a class every time we want to add or remove or change a little bit, we can just create a child class and make the changes to it, preserving everything we already created in the parent.\n",
    "\n",
    "Let's play with __Floofter__ to give it some new functionality. Notice we didn't give our new class an __\\_\\_init\\_\\___ method. Python is smart, and will search \"up the chain\" of and object's parentage until it finds one. In this case, it (correctly) used the __\\_\\_init\\_\\___ method from __GoodBoy__. Let's make a new __\\_\\_init\\_\\___ just for __Floofter__ that will override the parent method. All that floof means we might be more interested in coat properties, so let's add some of those to our initialization. Our furry friends will probably want to tell people about their floof, so we will also add a method to help them with that:"
   ]
  },
  {
   "cell_type": "code",
   "execution_count": null,
   "metadata": {},
   "outputs": [],
   "source": [
    "class Floofter(GoodBoy):\n",
    "    def __init__(self, name, breed, age, weight, floof, fcolors, flength, ftexture, shed):\n",
    "        self.name = name\n",
    "        self.breed = breed\n",
    "        self.age = age\n",
    "        self.weight = weight\n",
    "        self.floof = floof\n",
    "        self.fcolors = fcolors\n",
    "        self.flength = flength\n",
    "        self.ftexture = ftexture\n",
    "        self.shed = shed\n",
    "    \n",
    "    def describe_floof(self):\n",
    "        colorstring = self.fcolors[0]\n",
    "        for color in self.fcolors[1:]:\n",
    "            colorstring = colorstring + ' and ' + color\n",
    "        shedstring = 'I shed like crazy'\n",
    "        if not self.shed:\n",
    "            shedstring = \"I do not shed\"\n",
    "            \n",
    "        print(\"My floof is {}, about {} inches long, of a {} texture, and {}!\".format(colorstring, str(self.flength), self.ftexture, shedstring))\n",
    "shea = Floofter('Shea', 'Collie',10, 60, 100, ['brown', 'white'], 2, 'babysoft', True)\n",
    "shea.introduce()\n",
    "shea.describe_floof()"
   ]
  },
  {
   "cell_type": "markdown",
   "metadata": {},
   "source": [
    "Let's take a look at how inheritance has worked here. First, our new she still has the introduce method from __GoodBoy__, but now has a new method to describe his floofiness that is only available to the child class. We also overrode the __\\_\\_init\\_\\___ method of __GoodBoy__. To check this, let's try to initialize without the new arguments:"
   ]
  },
  {
   "cell_type": "code",
   "execution_count": null,
   "metadata": {},
   "outputs": [],
   "source": [
    "shea = GoodBoy('Shea', 'Collie',10, 60, 100)\n",
    "shea.introduce()\n",
    "shea2 = Floofter('Shea', 'Collie',10, 60, 100)\n"
   ]
  },
  {
   "cell_type": "markdown",
   "metadata": {},
   "source": [
    "These 5 arguments will work with a __GoodBoy__, but not with a __Floofter__ because we gave it a new __\\_\\_init\\_\\___ method which demands 8 arguments. This is a critical concept so I'll emphasize again:\n",
    "\n",
    "*Child classes override parents!*\n",
    "\n",
    "That's the critical thing you need to remember about Python object inheritance. I think that's sufficient for this intro, but I should note that inheritance can get pretty complex if you want, usually because objects can inherit from multiple parents (called multiple inheritance) and you have to understand how conflicts between these classes are resolved. There are some good descriptions [here](https://www.geeksforgeeks.org/inheritance-in-python/) and [here](https://www.programiz.com/python-programming/inheritance) for those interested.\n",
    "\n",
    "To summarize object inheritance in Python:\n",
    "* We make a class the child of another class by putting that parent in the parentheses after our class construction statment like so: class Name(Parent):\n",
    "* A child class inherits all the attributes and methods of the parent class.\n",
    "* In conflicts between child and parent, the parents always supersedes (beats) the parent.\n",
    "\n",
    "## One last thing: let's get super\n",
    "\n",
    "The last thing I want to touch on, just because Mike used it in his gff parser, is Python's __super()__ function. Let's say we want to change our __information__ function to include more information specific to floofters. We want to keep calling this method 'information' to retain consistency for the user. But we also want to keep the option of calling the shorter general dog information. Child methods override parent methods...how can we get the parent method back after we've overriden it? That's where __super()__ comes in! "
   ]
  },
  {
   "cell_type": "code",
   "execution_count": null,
   "metadata": {},
   "outputs": [],
   "source": [
    "class Floofter(GoodBoy):\n",
    "    def __init__(self, name, breed, age, weight, floof, fcolors, flength, ftexture, shed):\n",
    "        self.name = name\n",
    "        self.breed = breed\n",
    "        self.age = age\n",
    "        self.weight = weight\n",
    "        self.floof = floof\n",
    "        self.fcolors = fcolors\n",
    "        self.flength = flength\n",
    "        self.ftexture = ftexture\n",
    "        self.shed = shed\n",
    "    \n",
    "    def describe_floofter(self):\n",
    "        colorstring = self.fcolors[0]\n",
    "        for color in self.fcolors[1:]:\n",
    "            colorstring = colorstring + ' and ' + color\n",
    "        shedstring = 'I shed like crazy'\n",
    "        if not self.shed:\n",
    "            shedstring = \"I do not shed\"\n",
    "    \n",
    "    # New information method updates text.\n",
    "    @classmethod\n",
    "    def information(cls):\n",
    "        info = 'The dog is a member of the genus Canis (canines), which forms part of the wolf-like canids, and is the most widely abundant terrestrial carnivore. The dog was the first species to be domesticated, and has been selectively bred over millennia for various behaviors, sensory capabilities, and physical attributes. Their long association with humans has led dogs to be uniquely attuned to human behavior and has earned them the distinction of being mans best friend. Additionally, they are all very good boys.\\n\\nAmong all the very good boys, floofters are the very best-loved. They are much sought after by humans, especially tiny humans, and bring them many years of great joy.\\n'\n",
    "        print(info)\n",
    "    \n",
    "    # New method calls the information function of the parent object.\n",
    "    @classmethod\n",
    "    def information_brief(cls):\n",
    "        super().information()\n",
    "\n",
    "print(\"Call 1:\")\n",
    "Floofter.information()\n",
    "print('\\nCall 2:')\n",
    "Floofter.information_brief()"
   ]
  },
  {
   "cell_type": "markdown",
   "metadata": {},
   "source": [
    "__super()__ creates a temporary instance of the parent object, giving you access to all of its functionality (including overriden parts!) from inside the child class. Pretty cool! __super()__ is also useful within class method generally as a means to call methods from the parent when you haven't instantiated an object yet. \n",
    "\n",
    "A fair question to ask is why we can't just explicitly create a temporary __GoodBoy__ object to get access to parent methods. The answer is that we can! That'll work. The advantages of __super()__ are that its a bit more elegant (whatever that means) and that when you get into more complicated patterns of inheritance, it can be advantageous not to explicitly name the parent but rather to generaically call \"whatever the parent is\". That's pretty advanced stuff though, so for now let's just say using __super()__ to call parent functions from within a child object is nifty and Pythonic and will make you look like you know what you're doing! For the curious, here's a [lesson](https://realpython.com/python-super/) from RealPython that goes into some depth about super.\n",
    "\n"
   ]
  },
  {
   "cell_type": "markdown",
   "metadata": {},
   "source": [
    "# Why classes?"
   ]
  },
  {
   "cell_type": "markdown",
   "metadata": {},
   "source": [
    "So why do we need classes? Do we need classes? The answer is probably no: object-oriented programming is just a style. Put another way: OOP isn't for computers—it's for humans. The computer is ultimately getting the same instructions whether you write it in an object-oriented or procedural (or any other) style. OOP exists for the people who write and read code as a useful way to organize and understand programs.\n",
    "\n",
    "So what are the advantages of classes? When you read intros to OOP, you they always emphasize that it makes programming match the way you look at the world already. We have a concept of what a “car” is, and within that car we know what a 1995 Toyota Celica is, and we know that Stad’s busted-ass-because-he’s-a-forever-postdoc 1995 Toyota Celica is a specific instance of that kind of car. So object-oriented approaches match programming abstraction to human abstraction.\n",
    "\n",
    "That’s probably true, but honestly I always roll my eyes a little. I mean, high level languages are already pretty abstracted and human-readable, and it's not that hard to think in lists and dataframes. For my (admittedly limited) usage I have found the main advantage of classes to be that it’s simply a convenient way to group code and data when programming. I constantly end up with related things in my code. For example, for a single confocal movie, I have a bunch of data: the image stack itself, information about the experiment (date, fly line, microscope, labeled gene, developmental stage…), information extracted from the movie (nuclear mask, MS2 spot mask, intensity profiles of spots). I also have a bunch of functions that I wrote to work on these data (nuclei segmenter, MS2 spot segmenter, normalization functions…). There are lots of ways I could organize this code, but a very convenient way to do so is to create a __Movie__ class and populate movie objects with all the things I need.\n",
    "\n",
    "I'm sure I've massively under-used and ill-understand the full power of classes. Hopefully this is a decent introduction, and you all will go off, start using classes, and learn lots of wonderful new powerful things about them. Happy coding!"
   ]
  }
 ],
 "metadata": {
  "kernelspec": {
   "display_name": "Python (coding_club2)",
   "language": "python",
   "name": "coding_club2"
  },
  "language_info": {
   "codemirror_mode": {
    "name": "ipython",
    "version": 3
   },
   "file_extension": ".py",
   "mimetype": "text/x-python",
   "name": "python",
   "nbconvert_exporter": "python",
   "pygments_lexer": "ipython3",
   "version": "3.8.2"
  }
 },
 "nbformat": 4,
 "nbformat_minor": 4
}
