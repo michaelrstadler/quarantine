{
 "cells": [
  {
   "cell_type": "markdown",
   "metadata": {},
   "source": [
    "# 2020-04-10"
   ]
  },
  {
   "cell_type": "markdown",
   "metadata": {},
   "source": [
    "In this time of quarantine, all we have is data analysis. I'm going to start working on image analysis on my own, in parallel to the lab coding club, with the goal of improving my chops generally, improving organizational skills, and also maybe learning something about our data.\n",
    "\n",
    "It's pretty undirected at this point, but the goal is to revisit some imaging data from the Zelda project and see if I can get a handle on it. I'm going to start with the Bicoid, Hb-MS2 data, as this seemed like the most interesting stuff. Let's see where it goes..."
   ]
  },
  {
   "cell_type": "code",
   "execution_count": 16,
   "metadata": {},
   "outputs": [],
   "source": [
    "import numpy as np\n",
    "import matplotlib.pyplot as plt\n",
    "from scipy import ndimage as ndi \n",
    "# from skimage import filters, measure, segmentation, transform, exposure, img_as_ubyte, feature, morphology\n",
    "from skimage import filters, io\n",
    "\n",
    "import sys\n",
    "sys.path.append('/Users/MStadler/Bioinformatics/Projects/Zelda/Quarantine_analysis/bin')\n",
    "from imagep import read_tiff_folder, read_tiff_lattice, viewer, viewer, mask_plane\n",
    "\n",
    "%matplotlib inline\n",
    "stack_e1m3 = read_tiff_lattice('/Users/MStadler/Bioinformatics/Projects/Zelda/Quarantine_analysis/data/20180215_BcdEve_em1_mv3', span=(36,40))\n",
    "stack_e1m2 = read_tiff_lattice('/Users/MStadler/Bioinformatics/Projects/Zelda/Quarantine_analysis/data/20180215_BcdEve_em1_mv2', span=(36,40))\n",
    "red = stack_e1m2[0]\n",
    "green = stack_e1m2[1]"
   ]
  },
  {
   "cell_type": "markdown",
   "metadata": {},
   "source": [
    "Well, I used this notebook to hash out some basic functions for loading TIFF stacks (needed for lattice data) and for making a little viewer with Jupyter widgets. I deleted the cells and moved the code into a module (imagep.py). Let's see what kind of analysis we can do...\n",
    "\n",
    "How about let's remove the embryo boundary from lattice movies? Seems worthwhile and a chance to practice some image processing. What distinguishes the boundary? One possibility is using some kind of connected components strategy and filtering it out based on size considerations. I used this strategy before, and the real weakness is that you might get some stray pixels. Another strategy would be to say that we ***know*** there will be a border, and we only want to keep things to the left of it, to write some ad-hoc stuff to just explicitly find the border. I'm going to try that here.\n",
    "\n",
    "\n",
    "\n"
   ]
  },
  {
   "cell_type": "markdown",
   "metadata": {},
   "source": [
    "Difference of Gaussians seems to get the embryo border pretty well:"
   ]
  },
  {
   "cell_type": "code",
   "execution_count": null,
   "metadata": {},
   "outputs": [],
   "source": [
    "im = stack_e1m2[0,0]\n",
    "sigmabig = 5\n",
    "sigmalittle = 3\n",
    "im1 = ndi.filters.gaussian_filter(im, sigma=sigmabig) - ndi.filters.gaussian_filter(im, sigma=sigmalittle)\n",
    "#mask = im1.astype('bool')\n",
    "plt.hist(im1.flatten(), bins=200);\n",
    "#viewer(np.where(mask > 10, im, 0), 'zxy')"
   ]
  },
  {
   "cell_type": "markdown",
   "metadata": {},
   "source": [
    "Trying out some morphological approaches to find vertical embryo border. Problem is movies near the end...not very vertical."
   ]
  },
  {
   "cell_type": "code",
   "execution_count": null,
   "metadata": {},
   "outputs": [],
   "source": [
    "mask = np.copy(im1)\n",
    "mask[mask < 10000] = 0\n",
    "mask = mask.astype('bool')\n",
    "print(mask.shape)\n",
    "mask1 = ndi.morphology.binary_erosion(mask, structure=np.ones((1,100,1)))\n",
    "viewer(np.where(mask1, im, 0), 'zxy')"
   ]
  },
  {
   "cell_type": "markdown",
   "metadata": {},
   "source": [
    "Trying to use smoothing, thresholding, and distance mask to \"walk\" back from the border. Upshot is it was hard to make consistent."
   ]
  },
  {
   "cell_type": "code",
   "execution_count": null,
   "metadata": {},
   "outputs": [],
   "source": [
    "sigma=3\n",
    "im2 = ndi.filters.gaussian_filter(im, sigma=sigma)\n",
    "#t = filters.threshold_triangle(im2)\n",
    "t = filters.threshold_minimum(im2)\n",
    "#print(t)\n",
    "im3 = np.where(im2 > t, im, 0)\n",
    "im4 = im3.astype('bool')\n",
    "im5 = ndi.morphology.binary_fill_holes(im4, structure=np.ones((2,2,2)))\n",
    "dist_mask = np.apply_over_axes(ndi.distance_transform_edt, im5, [1,2])\n",
    "#dist_mask = ndi.distance_transform_edt(im5)\n",
    "#im5[dist_mask < 100] = 0\n",
    "#dist_mask[dist_mask < 100] = 0\n",
    "viewer(np.where(dist_mask < 35, im, 0), 'zxy')\n",
    "#viewer(im5, 'zxy')\n",
    "#plt.hist(im2.flatten(), bins=100);"
   ]
  },
  {
   "cell_type": "code",
   "execution_count": null,
   "metadata": {},
   "outputs": [],
   "source": [
    "red = stack_e1m2[0,0]\n",
    "green = stack_e1m2[1,0]"
   ]
  },
  {
   "cell_type": "code",
   "execution_count": 13,
   "metadata": {},
   "outputs": [],
   "source": [
    "plane_mask = mask_plane(green, (0,0,260),(0,510,210), (75,0,470), '>')\n",
    "plane_mask = plane_mask.astype('bool')"
   ]
  },
  {
   "cell_type": "code",
   "execution_count": 30,
   "metadata": {},
   "outputs": [],
   "source": [
    "sigma=2\n",
    "green2 = ndi.filters.gaussian_filter(green, sigma=sigma)\n",
    "t = filters.threshold_li(green2[~plane_mask])\n",
    "green3 = np.where(green2 > t, green, 0)\n",
    "#viewer(np.where(~plane_mask, green3, 0), 'zxy')"
   ]
  },
  {
   "cell_type": "code",
   "execution_count": 44,
   "metadata": {},
   "outputs": [],
   "source": [
    "#green4 = np.where(~plane_mask, green, 0)\n",
    "sigmabig = 4\n",
    "sigmalittle = 3\n",
    "im1 = ndi.filters.gaussian_filter(green4, sigma=sigmabig) - ndi.filters.gaussian_filter(green4, sigma=sigmalittle)\n",
    "#plt.hist(im1.flatten(), bins=100);\n",
    "im1[im1 > 10000] = 0\n",
    "mask = im1.astype('bool')\n",
    "#viewer(np.where(~mask, green, 0), 'zxy')"
   ]
  },
  {
   "cell_type": "code",
   "execution_count": 69,
   "metadata": {},
   "outputs": [],
   "source": [
    "im = green\n",
    "proj = im.min(axis=0)\n",
    "im2 = ndi.filters.gaussian_filter(proj, sigma=3)"
   ]
  },
  {
   "cell_type": "code",
   "execution_count": 33,
   "metadata": {},
   "outputs": [],
   "source": [
    "############################################################################\n",
    "def segment_embryo(stack, channel=0, sigma=5, walkback = 50):\n",
    "    \"\"\"Segment the embryo from extra-embryo space in lattice data.\n",
    "    \n",
    "    Details: Crudely segments the embryo from extra-embryonic space in 5-\n",
    "    dimensional stacks. Performs a gaussian smoothing, then thresholds,\n",
    "    then uses morphological filtering to fill holes and then to \"walk\n",
    "    back\" from right-to-left, based on the observation that segementation \n",
    "    tends to extend too far, and lattice images always have the sample on\n",
    "    the left.\n",
    "    \n",
    "    Args:\n",
    "        stack: ndarray\n",
    "            Image stack in order [c, t, z, x, y]\n",
    "        channel: int\n",
    "            Channel to use for segmentation (channel definted as first\n",
    "            dimension of the stack)\n",
    "        sigma: int\n",
    "            Sigma factor for gaussian smoothing\n",
    "        walkback: int\n",
    "            Length in pixels to \"walk back\" from right\n",
    "            \n",
    "    Returns:\n",
    "        stack_masked: ndarray\n",
    "            Input stack with masked (extra-embryo) positions set to 0\n",
    "    \"\"\"\n",
    "    # Create a 3D mask from the mean projection of a 4D stack.\n",
    "    def _make_mask(stack, channel, sigma, walkback):\n",
    "        # Make a mean projection (on time axis) for desired channel. \n",
    "        im = stack[channel].mean(axis=0)\n",
    "        # Smooth with gaussian kernel.\n",
    "        im_smooth = ndi.filters.gaussian_filter(im, sigma=sigma)\n",
    "        # Find threshold with minimum method.\n",
    "        t = filters.threshold_minimum(im_smooth)\n",
    "        # Make binary mask with threshold.\n",
    "        mask = np.where(im_smooth > t, im, 0)\n",
    "        mask = mask.astype('bool')\n",
    "        # Fill holes with morphological processing.\n",
    "        mask = ndi.morphology.binary_fill_holes(mask, structure=np.ones((1,2,2)))\n",
    "        # Build structure for \"walking back\" from right via morphological processing.\n",
    "        struc = np.ones((1,1, walkback))\n",
    "        midpoint = int(walkback / 2)\n",
    "        struc[0, 0, 0:midpoint] = 0\n",
    "        # Walk back mask from right.\n",
    "        mask = ndi.morphology.binary_erosion(mask, structure=struc)\n",
    "        return mask\n",
    "    \n",
    "    # Apply 3D mask to every 3D substack in the input stack. Changes are\n",
    "    # in place.\n",
    "    def _apply_mask(stack, mask):\n",
    "        for index in np.ndindex(stack_e1m3.shape[:-3]):\n",
    "            substack = stack[index]\n",
    "            substack[~mask] = 0\n",
    "            stack[index] = substack\n",
    "    \n",
    "    def main(stack, channel, sigma, walkback):\n",
    "        stack = np.copy(stack) # Leave original stack unchanged.\n",
    "        mask = _make_mask(stack, channel, sigma, walkback)\n",
    "        _apply_mask(stack, mask)\n",
    "        stack_masked = stack # Just a new name\n",
    "        return(stack_masked)\n",
    "    \n",
    "    return main(stack, channel, sigma, walkback)\n",
    "\n",
    "red_seg = segment_embryo(stack_e1m3, channel=0)\n",
    "grn_seg = segment_embryo(stack_e1m3, channel=1)"
   ]
  },
  {
   "cell_type": "code",
   "execution_count": 32,
   "metadata": {},
   "outputs": [
    {
     "name": "stdout",
     "output_type": "stream",
     "text": [
      "2020-04-10.ipynb          scratchpad-20200415.ipynb\r\n"
     ]
    }
   ],
   "source": [
    "!ls"
   ]
  },
  {
   "cell_type": "code",
   "execution_count": 5,
   "metadata": {},
   "outputs": [
    {
     "name": "stdout",
     "output_type": "stream",
     "text": [
      "(0, 0)\n",
      "(0, 1)\n",
      "(0, 2)\n",
      "(0, 3)\n",
      "(0, 4)\n",
      "(1, 0)\n",
      "(1, 1)\n",
      "(1, 2)\n",
      "(1, 3)\n",
      "(1, 4)\n"
     ]
    }
   ],
   "source": [
    "def func(a):\n",
    "    print(a.shape)\n",
    "    \n",
    "for index in np.ndindex(stack_e1m3.shape[:-3]):\n",
    "    print(index)\n",
    "    "
   ]
  },
  {
   "cell_type": "code",
   "execution_count": null,
   "metadata": {},
   "outputs": [],
   "source": [
    "test = stack_e1m3[0,0]\n",
    "print(test[0,:,:])\n",
    "for x in np.nditer(stack_e1m2[...,:,:]):\n",
    "    pass\n",
    "    #print(x)"
   ]
  },
  {
   "cell_type": "code",
   "execution_count": null,
   "metadata": {},
   "outputs": [],
   "source": [
    "print(test.shape)"
   ]
  },
  {
   "cell_type": "code",
   "execution_count": null,
   "metadata": {},
   "outputs": [],
   "source": []
  }
 ],
 "metadata": {
  "celltoolbar": "Raw Cell Format",
  "kernelspec": {
   "display_name": "Python (image_analysis1)",
   "language": "python",
   "name": "image_analysis1"
  },
  "language_info": {
   "codemirror_mode": {
    "name": "ipython",
    "version": 3
   },
   "file_extension": ".py",
   "mimetype": "text/x-python",
   "name": "python",
   "nbconvert_exporter": "python",
   "pygments_lexer": "ipython3",
   "version": "3.7.6"
  }
 },
 "nbformat": 4,
 "nbformat_minor": 4
}
