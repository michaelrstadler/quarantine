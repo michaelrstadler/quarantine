{
 "cells": [
  {
   "cell_type": "markdown",
   "metadata": {},
   "source": [
    "# 2020-04-10"
   ]
  },
  {
   "cell_type": "markdown",
   "metadata": {},
   "source": [
    "In this time of quarantine, all we have is data analysis. I'm going to start working on image analysis on my own, in parallel to the lab coding club, with the goal of improving my chops generally, improving organizational skills, and also maybe learning something about our data.\n",
    "\n",
    "It's pretty undirected at this point, but the goal is to revisit some imaging data from the Zelda project and see if I can get a handle on it. I'm going to start with the Bicoid, Hb-MS2 data, as this seemed like the most interesting stuff. Let's see where it goes..."
   ]
  },
  {
   "cell_type": "code",
   "execution_count": 1,
   "metadata": {},
   "outputs": [],
   "source": [
    "import numpy as np\n",
    "import matplotlib.pyplot as plt\n",
    "from scipy import ndimage as ndi \n",
    "# from skimage import filters, measure, segmentation, transform, exposure, img_as_ubyte, feature, morphology\n",
    "from skimage import filters, io\n",
    "import sys\n",
    "\n",
    "sys.path.append('/Users/MStadler/Bioinformatics/Projects/Zelda/Quarantine_analysis/bin')\n",
    "from imagep import read_tiff_stack, viewer"
   ]
  },
  {
   "cell_type": "code",
   "execution_count": 1,
   "metadata": {},
   "outputs": [
    {
     "name": "stderr",
     "output_type": "stream",
     "text": [
      "/Users/MStadler/opt/anaconda3/lib/python3.7/site-packages/skimage/external/tifffile/tifffile.py:2135: UserWarning: tags are not ordered by code\n",
      "  warnings.warn(\"tags are not ordered by code\")\n"
     ]
    }
   ],
   "source": [
    "import sys\n",
    "sys.path.append('/Users/MStadler/Bioinformatics/Projects/Zelda/Quarantine_analysis/bin')\n",
    "from imagep import read_tiff_stack\n",
    "from imagep import viewer\n",
    "stack1 = read_tiff_stack('/Users/MStadler/Bioinformatics/Projects/Zelda/Quarantine_analysis/data/tiff_test/')"
   ]
  },
  {
   "cell_type": "code",
   "execution_count": null,
   "metadata": {},
   "outputs": [],
   "source": [
    "# Write a function to load lattice (camA, camB) TIFF stacks\n",
    "\n",
    "def read_lattice()"
   ]
  }
 ],
 "metadata": {
  "kernelspec": {
   "display_name": "Python (image_analysis1)",
   "language": "python",
   "name": "image_analysis1"
  },
  "language_info": {
   "codemirror_mode": {
    "name": "ipython",
    "version": 3
   },
   "file_extension": ".py",
   "mimetype": "text/x-python",
   "name": "python",
   "nbconvert_exporter": "python",
   "pygments_lexer": "ipython3",
   "version": "3.7.6"
  }
 },
 "nbformat": 4,
 "nbformat_minor": 4
}
